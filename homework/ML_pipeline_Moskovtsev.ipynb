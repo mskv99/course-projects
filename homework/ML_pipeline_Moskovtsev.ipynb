{
  "cells": [
    {
      "cell_type": "markdown",
      "metadata": {
        "nbgrader": {
          "grade": false,
          "grade_id": "cell-86e0de040aac317a",
          "locked": true,
          "schema_version": 2,
          "solution": false
        },
        "id": "o6QdtZBa55uV"
      },
      "source": [
        "# Lab assignment №1, part 2\n",
        "\n",
        "This lab assignment consists of several parts. You are supposed to make some transformations, train some models, estimate the quality of the models and explain your results.\n",
        "\n",
        "Several comments:\n",
        "* Don't hesitate to ask questions, it's a good practice.\n",
        "* No private/public sharing, please. The copied assignments will be graded with 0 points.\n",
        "* Blocks of this lab will be graded separately."
      ]
    },
    {
      "cell_type": "markdown",
      "metadata": {
        "id": "AenxFU0A55uY"
      },
      "source": [
        "__*This is the second part of the assignment. First and third parts are waiting for you in the same directory.*__"
      ]
    },
    {
      "cell_type": "markdown",
      "metadata": {
        "nbgrader": {
          "grade": false,
          "grade_id": "cell-512ba712fc0fc065",
          "locked": true,
          "schema_version": 2,
          "solution": false
        },
        "id": "xecdGNLQ55uZ"
      },
      "source": [
        "## Part 2. Data preprocessing, model training and evaluation."
      ]
    },
    {
      "cell_type": "markdown",
      "metadata": {
        "nbgrader": {
          "grade": false,
          "grade_id": "cell-b656a4266174b009",
          "locked": true,
          "schema_version": 2,
          "solution": false
        },
        "id": "Y9VkA7It55ua"
      },
      "source": [
        "### 1. Reading the data\n",
        "Today we work with the [dataset](https://archive.ics.uci.edu/ml/datasets/Statlog+%28Vehicle+Silhouettes%29), describing different cars for multiclass ($k=4$) classification problem. The data is available below."
      ]
    },
    {
      "cell_type": "code",
      "execution_count": 1,
      "metadata": {
        "colab": {
          "base_uri": "https://localhost:8080/"
        },
        "id": "cF_QbXO255ub",
        "outputId": "80054f67-3521-4034-9fc5-6af9eb1f21c0"
      },
      "outputs": [
        {
          "output_type": "stream",
          "name": "stdout",
          "text": [
            "--2023-04-09 07:33:28--  https://raw.githubusercontent.com/girafe-ai/ml-course/22f_made/homeworks/lab01_ml_pipeline/car_data.csv\n",
            "Resolving raw.githubusercontent.com (raw.githubusercontent.com)... 185.199.108.133, 185.199.109.133, 185.199.111.133, ...\n",
            "Connecting to raw.githubusercontent.com (raw.githubusercontent.com)|185.199.108.133|:443... connected.\n",
            "HTTP request sent, awaiting response... 200 OK\n",
            "Length: 58374 (57K) [text/plain]\n",
            "Saving to: ‘car_data.csv’\n",
            "\n",
            "car_data.csv        100%[===================>]  57.01K  --.-KB/s    in 0.008s  \n",
            "\n",
            "2023-04-09 07:33:28 (7.15 MB/s) - ‘car_data.csv’ saved [58374/58374]\n",
            "\n"
          ]
        }
      ],
      "source": [
        "# If on colab, uncomment the following lines\n",
        "\n",
        "! wget https://raw.githubusercontent.com/girafe-ai/ml-course/22f_made/homeworks/lab01_ml_pipeline/car_data.csv"
      ]
    },
    {
      "cell_type": "code",
      "execution_count": 2,
      "metadata": {
        "nbgrader": {
          "grade": false,
          "grade_id": "cell-eebac6bfdf73d0bc",
          "locked": true,
          "schema_version": 2,
          "solution": false
        },
        "colab": {
          "base_uri": "https://localhost:8080/"
        },
        "id": "WZr-vL4b55ud",
        "outputId": "0601101a-f826-44ad-aa50-e960956673e5"
      },
      "outputs": [
        {
          "output_type": "stream",
          "name": "stdout",
          "text": [
            "(846, 19) (846,)\n"
          ]
        }
      ],
      "source": [
        "import pandas as pd\n",
        "import numpy as np\n",
        "from sklearn.model_selection import train_test_split, GridSearchCV\n",
        "import random\n",
        "import seaborn as sns\n",
        "import matplotlib.pyplot as plt\n",
        "\n",
        "\n",
        "\n",
        "random.seed(0)\n",
        "np.random.seed(0)\n",
        "\n",
        "dataset = pd.read_csv('car_data.csv', delimiter=',', header=None).values\n",
        "data = dataset[:, :-1].astype(int)\n",
        "target = dataset[:, -1]\n",
        "\n",
        "print(data.shape, target.shape)\n",
        "\n",
        "# X_train, X_test, y_train, y_test = train_test_split(data, target, test_size=0.35)\n",
        "# print(X_train.shape, y_train.shape, X_test.shape, y_test.shape)"
      ]
    },
    {
      "cell_type": "code",
      "source": [
        "pd.DataFrame(data)\n"
      ],
      "metadata": {
        "colab": {
          "base_uri": "https://localhost:8080/",
          "height": 424
        },
        "id": "uI4ocxFy6aMF",
        "outputId": "46a21b53-ee3b-4abf-953b-390459b6d8e9",
        "collapsed": true
      },
      "execution_count": null,
      "outputs": [
        {
          "output_type": "execute_result",
          "data": {
            "text/plain": [
              "      0    1   2    3    4    5   6    7   8   9    10   11   12   13   14  \\\n",
              "0      0   95  48   83  178   72  10  162  42  20  159  176  379  184   70   \n",
              "1      1   91  41   84  141   57   9  149  45  19  143  170  330  158   72   \n",
              "2      2  104  50  106  209   66  10  207  32  23  158  223  635  220   73   \n",
              "3      3   93  41   82  159   63   9  144  46  19  143  160  309  127   63   \n",
              "4      4   85  44   70  205  103  52  149  45  19  144  241  325  188  127   \n",
              "..   ...  ...  ..  ...  ...  ...  ..  ...  ..  ..  ...  ...  ...  ...  ...   \n",
              "841  841   93  39   87  183   64   8  169  40  20  134  200  422  149   72   \n",
              "842  842   89  46   84  163   66  11  159  43  20  159  173  368  176   72   \n",
              "843  843  106  54  101  222   67  12  222  30  25  173  228  721  200   70   \n",
              "844  844   86  36   78  146   58   7  135  50  18  124  155  270  148   66   \n",
              "845  845   85  36   66  123   55   5  120  56  17  128  140  212  131   73   \n",
              "\n",
              "     15  16   17   18  \n",
              "0     6  16  187  197  \n",
              "1     9  14  189  199  \n",
              "2    14   9  188  196  \n",
              "3     6  10  199  207  \n",
              "4     9  11  180  183  \n",
              "..   ..  ..  ...  ...  \n",
              "841   7  25  188  195  \n",
              "842   1  20  186  197  \n",
              "843   3   4  187  201  \n",
              "844   0  25  190  195  \n",
              "845   1  18  186  190  \n",
              "\n",
              "[846 rows x 19 columns]"
            ],
            "text/html": [
              "\n",
              "  <div id=\"df-f1b69d6d-d716-481f-a552-2657c5cd9bd9\">\n",
              "    <div class=\"colab-df-container\">\n",
              "      <div>\n",
              "<style scoped>\n",
              "    .dataframe tbody tr th:only-of-type {\n",
              "        vertical-align: middle;\n",
              "    }\n",
              "\n",
              "    .dataframe tbody tr th {\n",
              "        vertical-align: top;\n",
              "    }\n",
              "\n",
              "    .dataframe thead th {\n",
              "        text-align: right;\n",
              "    }\n",
              "</style>\n",
              "<table border=\"1\" class=\"dataframe\">\n",
              "  <thead>\n",
              "    <tr style=\"text-align: right;\">\n",
              "      <th></th>\n",
              "      <th>0</th>\n",
              "      <th>1</th>\n",
              "      <th>2</th>\n",
              "      <th>3</th>\n",
              "      <th>4</th>\n",
              "      <th>5</th>\n",
              "      <th>6</th>\n",
              "      <th>7</th>\n",
              "      <th>8</th>\n",
              "      <th>9</th>\n",
              "      <th>10</th>\n",
              "      <th>11</th>\n",
              "      <th>12</th>\n",
              "      <th>13</th>\n",
              "      <th>14</th>\n",
              "      <th>15</th>\n",
              "      <th>16</th>\n",
              "      <th>17</th>\n",
              "      <th>18</th>\n",
              "    </tr>\n",
              "  </thead>\n",
              "  <tbody>\n",
              "    <tr>\n",
              "      <th>0</th>\n",
              "      <td>0</td>\n",
              "      <td>95</td>\n",
              "      <td>48</td>\n",
              "      <td>83</td>\n",
              "      <td>178</td>\n",
              "      <td>72</td>\n",
              "      <td>10</td>\n",
              "      <td>162</td>\n",
              "      <td>42</td>\n",
              "      <td>20</td>\n",
              "      <td>159</td>\n",
              "      <td>176</td>\n",
              "      <td>379</td>\n",
              "      <td>184</td>\n",
              "      <td>70</td>\n",
              "      <td>6</td>\n",
              "      <td>16</td>\n",
              "      <td>187</td>\n",
              "      <td>197</td>\n",
              "    </tr>\n",
              "    <tr>\n",
              "      <th>1</th>\n",
              "      <td>1</td>\n",
              "      <td>91</td>\n",
              "      <td>41</td>\n",
              "      <td>84</td>\n",
              "      <td>141</td>\n",
              "      <td>57</td>\n",
              "      <td>9</td>\n",
              "      <td>149</td>\n",
              "      <td>45</td>\n",
              "      <td>19</td>\n",
              "      <td>143</td>\n",
              "      <td>170</td>\n",
              "      <td>330</td>\n",
              "      <td>158</td>\n",
              "      <td>72</td>\n",
              "      <td>9</td>\n",
              "      <td>14</td>\n",
              "      <td>189</td>\n",
              "      <td>199</td>\n",
              "    </tr>\n",
              "    <tr>\n",
              "      <th>2</th>\n",
              "      <td>2</td>\n",
              "      <td>104</td>\n",
              "      <td>50</td>\n",
              "      <td>106</td>\n",
              "      <td>209</td>\n",
              "      <td>66</td>\n",
              "      <td>10</td>\n",
              "      <td>207</td>\n",
              "      <td>32</td>\n",
              "      <td>23</td>\n",
              "      <td>158</td>\n",
              "      <td>223</td>\n",
              "      <td>635</td>\n",
              "      <td>220</td>\n",
              "      <td>73</td>\n",
              "      <td>14</td>\n",
              "      <td>9</td>\n",
              "      <td>188</td>\n",
              "      <td>196</td>\n",
              "    </tr>\n",
              "    <tr>\n",
              "      <th>3</th>\n",
              "      <td>3</td>\n",
              "      <td>93</td>\n",
              "      <td>41</td>\n",
              "      <td>82</td>\n",
              "      <td>159</td>\n",
              "      <td>63</td>\n",
              "      <td>9</td>\n",
              "      <td>144</td>\n",
              "      <td>46</td>\n",
              "      <td>19</td>\n",
              "      <td>143</td>\n",
              "      <td>160</td>\n",
              "      <td>309</td>\n",
              "      <td>127</td>\n",
              "      <td>63</td>\n",
              "      <td>6</td>\n",
              "      <td>10</td>\n",
              "      <td>199</td>\n",
              "      <td>207</td>\n",
              "    </tr>\n",
              "    <tr>\n",
              "      <th>4</th>\n",
              "      <td>4</td>\n",
              "      <td>85</td>\n",
              "      <td>44</td>\n",
              "      <td>70</td>\n",
              "      <td>205</td>\n",
              "      <td>103</td>\n",
              "      <td>52</td>\n",
              "      <td>149</td>\n",
              "      <td>45</td>\n",
              "      <td>19</td>\n",
              "      <td>144</td>\n",
              "      <td>241</td>\n",
              "      <td>325</td>\n",
              "      <td>188</td>\n",
              "      <td>127</td>\n",
              "      <td>9</td>\n",
              "      <td>11</td>\n",
              "      <td>180</td>\n",
              "      <td>183</td>\n",
              "    </tr>\n",
              "    <tr>\n",
              "      <th>...</th>\n",
              "      <td>...</td>\n",
              "      <td>...</td>\n",
              "      <td>...</td>\n",
              "      <td>...</td>\n",
              "      <td>...</td>\n",
              "      <td>...</td>\n",
              "      <td>...</td>\n",
              "      <td>...</td>\n",
              "      <td>...</td>\n",
              "      <td>...</td>\n",
              "      <td>...</td>\n",
              "      <td>...</td>\n",
              "      <td>...</td>\n",
              "      <td>...</td>\n",
              "      <td>...</td>\n",
              "      <td>...</td>\n",
              "      <td>...</td>\n",
              "      <td>...</td>\n",
              "      <td>...</td>\n",
              "    </tr>\n",
              "    <tr>\n",
              "      <th>841</th>\n",
              "      <td>841</td>\n",
              "      <td>93</td>\n",
              "      <td>39</td>\n",
              "      <td>87</td>\n",
              "      <td>183</td>\n",
              "      <td>64</td>\n",
              "      <td>8</td>\n",
              "      <td>169</td>\n",
              "      <td>40</td>\n",
              "      <td>20</td>\n",
              "      <td>134</td>\n",
              "      <td>200</td>\n",
              "      <td>422</td>\n",
              "      <td>149</td>\n",
              "      <td>72</td>\n",
              "      <td>7</td>\n",
              "      <td>25</td>\n",
              "      <td>188</td>\n",
              "      <td>195</td>\n",
              "    </tr>\n",
              "    <tr>\n",
              "      <th>842</th>\n",
              "      <td>842</td>\n",
              "      <td>89</td>\n",
              "      <td>46</td>\n",
              "      <td>84</td>\n",
              "      <td>163</td>\n",
              "      <td>66</td>\n",
              "      <td>11</td>\n",
              "      <td>159</td>\n",
              "      <td>43</td>\n",
              "      <td>20</td>\n",
              "      <td>159</td>\n",
              "      <td>173</td>\n",
              "      <td>368</td>\n",
              "      <td>176</td>\n",
              "      <td>72</td>\n",
              "      <td>1</td>\n",
              "      <td>20</td>\n",
              "      <td>186</td>\n",
              "      <td>197</td>\n",
              "    </tr>\n",
              "    <tr>\n",
              "      <th>843</th>\n",
              "      <td>843</td>\n",
              "      <td>106</td>\n",
              "      <td>54</td>\n",
              "      <td>101</td>\n",
              "      <td>222</td>\n",
              "      <td>67</td>\n",
              "      <td>12</td>\n",
              "      <td>222</td>\n",
              "      <td>30</td>\n",
              "      <td>25</td>\n",
              "      <td>173</td>\n",
              "      <td>228</td>\n",
              "      <td>721</td>\n",
              "      <td>200</td>\n",
              "      <td>70</td>\n",
              "      <td>3</td>\n",
              "      <td>4</td>\n",
              "      <td>187</td>\n",
              "      <td>201</td>\n",
              "    </tr>\n",
              "    <tr>\n",
              "      <th>844</th>\n",
              "      <td>844</td>\n",
              "      <td>86</td>\n",
              "      <td>36</td>\n",
              "      <td>78</td>\n",
              "      <td>146</td>\n",
              "      <td>58</td>\n",
              "      <td>7</td>\n",
              "      <td>135</td>\n",
              "      <td>50</td>\n",
              "      <td>18</td>\n",
              "      <td>124</td>\n",
              "      <td>155</td>\n",
              "      <td>270</td>\n",
              "      <td>148</td>\n",
              "      <td>66</td>\n",
              "      <td>0</td>\n",
              "      <td>25</td>\n",
              "      <td>190</td>\n",
              "      <td>195</td>\n",
              "    </tr>\n",
              "    <tr>\n",
              "      <th>845</th>\n",
              "      <td>845</td>\n",
              "      <td>85</td>\n",
              "      <td>36</td>\n",
              "      <td>66</td>\n",
              "      <td>123</td>\n",
              "      <td>55</td>\n",
              "      <td>5</td>\n",
              "      <td>120</td>\n",
              "      <td>56</td>\n",
              "      <td>17</td>\n",
              "      <td>128</td>\n",
              "      <td>140</td>\n",
              "      <td>212</td>\n",
              "      <td>131</td>\n",
              "      <td>73</td>\n",
              "      <td>1</td>\n",
              "      <td>18</td>\n",
              "      <td>186</td>\n",
              "      <td>190</td>\n",
              "    </tr>\n",
              "  </tbody>\n",
              "</table>\n",
              "<p>846 rows × 19 columns</p>\n",
              "</div>\n",
              "      <button class=\"colab-df-convert\" onclick=\"convertToInteractive('df-f1b69d6d-d716-481f-a552-2657c5cd9bd9')\"\n",
              "              title=\"Convert this dataframe to an interactive table.\"\n",
              "              style=\"display:none;\">\n",
              "        \n",
              "  <svg xmlns=\"http://www.w3.org/2000/svg\" height=\"24px\"viewBox=\"0 0 24 24\"\n",
              "       width=\"24px\">\n",
              "    <path d=\"M0 0h24v24H0V0z\" fill=\"none\"/>\n",
              "    <path d=\"M18.56 5.44l.94 2.06.94-2.06 2.06-.94-2.06-.94-.94-2.06-.94 2.06-2.06.94zm-11 1L8.5 8.5l.94-2.06 2.06-.94-2.06-.94L8.5 2.5l-.94 2.06-2.06.94zm10 10l.94 2.06.94-2.06 2.06-.94-2.06-.94-.94-2.06-.94 2.06-2.06.94z\"/><path d=\"M17.41 7.96l-1.37-1.37c-.4-.4-.92-.59-1.43-.59-.52 0-1.04.2-1.43.59L10.3 9.45l-7.72 7.72c-.78.78-.78 2.05 0 2.83L4 21.41c.39.39.9.59 1.41.59.51 0 1.02-.2 1.41-.59l7.78-7.78 2.81-2.81c.8-.78.8-2.07 0-2.86zM5.41 20L4 18.59l7.72-7.72 1.47 1.35L5.41 20z\"/>\n",
              "  </svg>\n",
              "      </button>\n",
              "      \n",
              "  <style>\n",
              "    .colab-df-container {\n",
              "      display:flex;\n",
              "      flex-wrap:wrap;\n",
              "      gap: 12px;\n",
              "    }\n",
              "\n",
              "    .colab-df-convert {\n",
              "      background-color: #E8F0FE;\n",
              "      border: none;\n",
              "      border-radius: 50%;\n",
              "      cursor: pointer;\n",
              "      display: none;\n",
              "      fill: #1967D2;\n",
              "      height: 32px;\n",
              "      padding: 0 0 0 0;\n",
              "      width: 32px;\n",
              "    }\n",
              "\n",
              "    .colab-df-convert:hover {\n",
              "      background-color: #E2EBFA;\n",
              "      box-shadow: 0px 1px 2px rgba(60, 64, 67, 0.3), 0px 1px 3px 1px rgba(60, 64, 67, 0.15);\n",
              "      fill: #174EA6;\n",
              "    }\n",
              "\n",
              "    [theme=dark] .colab-df-convert {\n",
              "      background-color: #3B4455;\n",
              "      fill: #D2E3FC;\n",
              "    }\n",
              "\n",
              "    [theme=dark] .colab-df-convert:hover {\n",
              "      background-color: #434B5C;\n",
              "      box-shadow: 0px 1px 3px 1px rgba(0, 0, 0, 0.15);\n",
              "      filter: drop-shadow(0px 1px 2px rgba(0, 0, 0, 0.3));\n",
              "      fill: #FFFFFF;\n",
              "    }\n",
              "  </style>\n",
              "\n",
              "      <script>\n",
              "        const buttonEl =\n",
              "          document.querySelector('#df-f1b69d6d-d716-481f-a552-2657c5cd9bd9 button.colab-df-convert');\n",
              "        buttonEl.style.display =\n",
              "          google.colab.kernel.accessAllowed ? 'block' : 'none';\n",
              "\n",
              "        async function convertToInteractive(key) {\n",
              "          const element = document.querySelector('#df-f1b69d6d-d716-481f-a552-2657c5cd9bd9');\n",
              "          const dataTable =\n",
              "            await google.colab.kernel.invokeFunction('convertToInteractive',\n",
              "                                                     [key], {});\n",
              "          if (!dataTable) return;\n",
              "\n",
              "          const docLinkHtml = 'Like what you see? Visit the ' +\n",
              "            '<a target=\"_blank\" href=https://colab.research.google.com/notebooks/data_table.ipynb>data table notebook</a>'\n",
              "            + ' to learn more about interactive tables.';\n",
              "          element.innerHTML = '';\n",
              "          dataTable['output_type'] = 'display_data';\n",
              "          await google.colab.output.renderOutput(dataTable, element);\n",
              "          const docLink = document.createElement('div');\n",
              "          docLink.innerHTML = docLinkHtml;\n",
              "          element.appendChild(docLink);\n",
              "        }\n",
              "      </script>\n",
              "    </div>\n",
              "  </div>\n",
              "  "
            ]
          },
          "metadata": {},
          "execution_count": 86
        }
      ]
    },
    {
      "cell_type": "markdown",
      "metadata": {
        "nbgrader": {
          "grade": false,
          "grade_id": "cell-88b1a0f688568f2c",
          "locked": true,
          "schema_version": 2,
          "solution": false
        },
        "id": "RGMxLWED55uf"
      },
      "source": [
        "To get some insights about the dataset, `pandas` might be used. The `train` part is transformed to `pd.DataFrame` below."
      ]
    },
    {
      "cell_type": "code",
      "execution_count": null,
      "metadata": {
        "collapsed": true,
        "id": "1pgxCwlR55ug",
        "outputId": "68aa99f1-3ba5-42c9-bc48-1371eecaab03",
        "colab": {
          "base_uri": "https://localhost:8080/",
          "height": 424
        }
      },
      "outputs": [
        {
          "output_type": "execute_result",
          "data": {
            "text/plain": [
              "      0    1   2    3    4   5   6    7   8   9    10   11    12   13  14  15  \\\n",
              "0    703   93  43   78  162  64   8  137  48  18  145  156   281  159  63  17   \n",
              "1    155  110  56  103  223  64   5  250  26  27  169  280   928  239  85   4   \n",
              "2    843  106  54  101  222  67  12  222  30  25  173  228   721  200  70   3   \n",
              "3    671  103  41   83  194  63   9  175  38  21  142  199   455  138  65   7   \n",
              "4    443   99  50   88  204  64  10  185  35  22  159  209   517  193  66  12   \n",
              "..   ...  ...  ..  ...  ...  ..  ..  ...  ..  ..  ...  ...   ...  ...  ..  ..   \n",
              "544  835  111  58  105  183  51   6  265  26  29  174  285  1018  255  85   4   \n",
              "545  192   93  43   76  149  57   7  149  44  19  143  172   335  176  69  14   \n",
              "546  629   90  42   63  144  59   7  131  50  18  142  154   259  162  65  15   \n",
              "547  559  101  56  101  231  72  10  217  31  24  171  232   698  216  72   2   \n",
              "548  684   99  38   74  184  66   6  164  39  20  131  193   414  137  71   2   \n",
              "\n",
              "     16   17   18  \n",
              "0    12  203  210  \n",
              "1     6  184  183  \n",
              "2     4  187  201  \n",
              "3    30  197  206  \n",
              "4    11  194  201  \n",
              "..   ..  ...  ...  \n",
              "544   8  181  183  \n",
              "545   0  189  194  \n",
              "546   3  197  204  \n",
              "547   6  187  197  \n",
              "548  22  200  202  \n",
              "\n",
              "[549 rows x 19 columns]"
            ],
            "text/html": [
              "\n",
              "  <div id=\"df-5b0d93c6-c127-4ef7-974f-7084c43df468\">\n",
              "    <div class=\"colab-df-container\">\n",
              "      <div>\n",
              "<style scoped>\n",
              "    .dataframe tbody tr th:only-of-type {\n",
              "        vertical-align: middle;\n",
              "    }\n",
              "\n",
              "    .dataframe tbody tr th {\n",
              "        vertical-align: top;\n",
              "    }\n",
              "\n",
              "    .dataframe thead th {\n",
              "        text-align: right;\n",
              "    }\n",
              "</style>\n",
              "<table border=\"1\" class=\"dataframe\">\n",
              "  <thead>\n",
              "    <tr style=\"text-align: right;\">\n",
              "      <th></th>\n",
              "      <th>0</th>\n",
              "      <th>1</th>\n",
              "      <th>2</th>\n",
              "      <th>3</th>\n",
              "      <th>4</th>\n",
              "      <th>5</th>\n",
              "      <th>6</th>\n",
              "      <th>7</th>\n",
              "      <th>8</th>\n",
              "      <th>9</th>\n",
              "      <th>10</th>\n",
              "      <th>11</th>\n",
              "      <th>12</th>\n",
              "      <th>13</th>\n",
              "      <th>14</th>\n",
              "      <th>15</th>\n",
              "      <th>16</th>\n",
              "      <th>17</th>\n",
              "      <th>18</th>\n",
              "    </tr>\n",
              "  </thead>\n",
              "  <tbody>\n",
              "    <tr>\n",
              "      <th>0</th>\n",
              "      <td>703</td>\n",
              "      <td>93</td>\n",
              "      <td>43</td>\n",
              "      <td>78</td>\n",
              "      <td>162</td>\n",
              "      <td>64</td>\n",
              "      <td>8</td>\n",
              "      <td>137</td>\n",
              "      <td>48</td>\n",
              "      <td>18</td>\n",
              "      <td>145</td>\n",
              "      <td>156</td>\n",
              "      <td>281</td>\n",
              "      <td>159</td>\n",
              "      <td>63</td>\n",
              "      <td>17</td>\n",
              "      <td>12</td>\n",
              "      <td>203</td>\n",
              "      <td>210</td>\n",
              "    </tr>\n",
              "    <tr>\n",
              "      <th>1</th>\n",
              "      <td>155</td>\n",
              "      <td>110</td>\n",
              "      <td>56</td>\n",
              "      <td>103</td>\n",
              "      <td>223</td>\n",
              "      <td>64</td>\n",
              "      <td>5</td>\n",
              "      <td>250</td>\n",
              "      <td>26</td>\n",
              "      <td>27</td>\n",
              "      <td>169</td>\n",
              "      <td>280</td>\n",
              "      <td>928</td>\n",
              "      <td>239</td>\n",
              "      <td>85</td>\n",
              "      <td>4</td>\n",
              "      <td>6</td>\n",
              "      <td>184</td>\n",
              "      <td>183</td>\n",
              "    </tr>\n",
              "    <tr>\n",
              "      <th>2</th>\n",
              "      <td>843</td>\n",
              "      <td>106</td>\n",
              "      <td>54</td>\n",
              "      <td>101</td>\n",
              "      <td>222</td>\n",
              "      <td>67</td>\n",
              "      <td>12</td>\n",
              "      <td>222</td>\n",
              "      <td>30</td>\n",
              "      <td>25</td>\n",
              "      <td>173</td>\n",
              "      <td>228</td>\n",
              "      <td>721</td>\n",
              "      <td>200</td>\n",
              "      <td>70</td>\n",
              "      <td>3</td>\n",
              "      <td>4</td>\n",
              "      <td>187</td>\n",
              "      <td>201</td>\n",
              "    </tr>\n",
              "    <tr>\n",
              "      <th>3</th>\n",
              "      <td>671</td>\n",
              "      <td>103</td>\n",
              "      <td>41</td>\n",
              "      <td>83</td>\n",
              "      <td>194</td>\n",
              "      <td>63</td>\n",
              "      <td>9</td>\n",
              "      <td>175</td>\n",
              "      <td>38</td>\n",
              "      <td>21</td>\n",
              "      <td>142</td>\n",
              "      <td>199</td>\n",
              "      <td>455</td>\n",
              "      <td>138</td>\n",
              "      <td>65</td>\n",
              "      <td>7</td>\n",
              "      <td>30</td>\n",
              "      <td>197</td>\n",
              "      <td>206</td>\n",
              "    </tr>\n",
              "    <tr>\n",
              "      <th>4</th>\n",
              "      <td>443</td>\n",
              "      <td>99</td>\n",
              "      <td>50</td>\n",
              "      <td>88</td>\n",
              "      <td>204</td>\n",
              "      <td>64</td>\n",
              "      <td>10</td>\n",
              "      <td>185</td>\n",
              "      <td>35</td>\n",
              "      <td>22</td>\n",
              "      <td>159</td>\n",
              "      <td>209</td>\n",
              "      <td>517</td>\n",
              "      <td>193</td>\n",
              "      <td>66</td>\n",
              "      <td>12</td>\n",
              "      <td>11</td>\n",
              "      <td>194</td>\n",
              "      <td>201</td>\n",
              "    </tr>\n",
              "    <tr>\n",
              "      <th>...</th>\n",
              "      <td>...</td>\n",
              "      <td>...</td>\n",
              "      <td>...</td>\n",
              "      <td>...</td>\n",
              "      <td>...</td>\n",
              "      <td>...</td>\n",
              "      <td>...</td>\n",
              "      <td>...</td>\n",
              "      <td>...</td>\n",
              "      <td>...</td>\n",
              "      <td>...</td>\n",
              "      <td>...</td>\n",
              "      <td>...</td>\n",
              "      <td>...</td>\n",
              "      <td>...</td>\n",
              "      <td>...</td>\n",
              "      <td>...</td>\n",
              "      <td>...</td>\n",
              "      <td>...</td>\n",
              "    </tr>\n",
              "    <tr>\n",
              "      <th>544</th>\n",
              "      <td>835</td>\n",
              "      <td>111</td>\n",
              "      <td>58</td>\n",
              "      <td>105</td>\n",
              "      <td>183</td>\n",
              "      <td>51</td>\n",
              "      <td>6</td>\n",
              "      <td>265</td>\n",
              "      <td>26</td>\n",
              "      <td>29</td>\n",
              "      <td>174</td>\n",
              "      <td>285</td>\n",
              "      <td>1018</td>\n",
              "      <td>255</td>\n",
              "      <td>85</td>\n",
              "      <td>4</td>\n",
              "      <td>8</td>\n",
              "      <td>181</td>\n",
              "      <td>183</td>\n",
              "    </tr>\n",
              "    <tr>\n",
              "      <th>545</th>\n",
              "      <td>192</td>\n",
              "      <td>93</td>\n",
              "      <td>43</td>\n",
              "      <td>76</td>\n",
              "      <td>149</td>\n",
              "      <td>57</td>\n",
              "      <td>7</td>\n",
              "      <td>149</td>\n",
              "      <td>44</td>\n",
              "      <td>19</td>\n",
              "      <td>143</td>\n",
              "      <td>172</td>\n",
              "      <td>335</td>\n",
              "      <td>176</td>\n",
              "      <td>69</td>\n",
              "      <td>14</td>\n",
              "      <td>0</td>\n",
              "      <td>189</td>\n",
              "      <td>194</td>\n",
              "    </tr>\n",
              "    <tr>\n",
              "      <th>546</th>\n",
              "      <td>629</td>\n",
              "      <td>90</td>\n",
              "      <td>42</td>\n",
              "      <td>63</td>\n",
              "      <td>144</td>\n",
              "      <td>59</td>\n",
              "      <td>7</td>\n",
              "      <td>131</td>\n",
              "      <td>50</td>\n",
              "      <td>18</td>\n",
              "      <td>142</td>\n",
              "      <td>154</td>\n",
              "      <td>259</td>\n",
              "      <td>162</td>\n",
              "      <td>65</td>\n",
              "      <td>15</td>\n",
              "      <td>3</td>\n",
              "      <td>197</td>\n",
              "      <td>204</td>\n",
              "    </tr>\n",
              "    <tr>\n",
              "      <th>547</th>\n",
              "      <td>559</td>\n",
              "      <td>101</td>\n",
              "      <td>56</td>\n",
              "      <td>101</td>\n",
              "      <td>231</td>\n",
              "      <td>72</td>\n",
              "      <td>10</td>\n",
              "      <td>217</td>\n",
              "      <td>31</td>\n",
              "      <td>24</td>\n",
              "      <td>171</td>\n",
              "      <td>232</td>\n",
              "      <td>698</td>\n",
              "      <td>216</td>\n",
              "      <td>72</td>\n",
              "      <td>2</td>\n",
              "      <td>6</td>\n",
              "      <td>187</td>\n",
              "      <td>197</td>\n",
              "    </tr>\n",
              "    <tr>\n",
              "      <th>548</th>\n",
              "      <td>684</td>\n",
              "      <td>99</td>\n",
              "      <td>38</td>\n",
              "      <td>74</td>\n",
              "      <td>184</td>\n",
              "      <td>66</td>\n",
              "      <td>6</td>\n",
              "      <td>164</td>\n",
              "      <td>39</td>\n",
              "      <td>20</td>\n",
              "      <td>131</td>\n",
              "      <td>193</td>\n",
              "      <td>414</td>\n",
              "      <td>137</td>\n",
              "      <td>71</td>\n",
              "      <td>2</td>\n",
              "      <td>22</td>\n",
              "      <td>200</td>\n",
              "      <td>202</td>\n",
              "    </tr>\n",
              "  </tbody>\n",
              "</table>\n",
              "<p>549 rows × 19 columns</p>\n",
              "</div>\n",
              "      <button class=\"colab-df-convert\" onclick=\"convertToInteractive('df-5b0d93c6-c127-4ef7-974f-7084c43df468')\"\n",
              "              title=\"Convert this dataframe to an interactive table.\"\n",
              "              style=\"display:none;\">\n",
              "        \n",
              "  <svg xmlns=\"http://www.w3.org/2000/svg\" height=\"24px\"viewBox=\"0 0 24 24\"\n",
              "       width=\"24px\">\n",
              "    <path d=\"M0 0h24v24H0V0z\" fill=\"none\"/>\n",
              "    <path d=\"M18.56 5.44l.94 2.06.94-2.06 2.06-.94-2.06-.94-.94-2.06-.94 2.06-2.06.94zm-11 1L8.5 8.5l.94-2.06 2.06-.94-2.06-.94L8.5 2.5l-.94 2.06-2.06.94zm10 10l.94 2.06.94-2.06 2.06-.94-2.06-.94-.94-2.06-.94 2.06-2.06.94z\"/><path d=\"M17.41 7.96l-1.37-1.37c-.4-.4-.92-.59-1.43-.59-.52 0-1.04.2-1.43.59L10.3 9.45l-7.72 7.72c-.78.78-.78 2.05 0 2.83L4 21.41c.39.39.9.59 1.41.59.51 0 1.02-.2 1.41-.59l7.78-7.78 2.81-2.81c.8-.78.8-2.07 0-2.86zM5.41 20L4 18.59l7.72-7.72 1.47 1.35L5.41 20z\"/>\n",
              "  </svg>\n",
              "      </button>\n",
              "      \n",
              "  <style>\n",
              "    .colab-df-container {\n",
              "      display:flex;\n",
              "      flex-wrap:wrap;\n",
              "      gap: 12px;\n",
              "    }\n",
              "\n",
              "    .colab-df-convert {\n",
              "      background-color: #E8F0FE;\n",
              "      border: none;\n",
              "      border-radius: 50%;\n",
              "      cursor: pointer;\n",
              "      display: none;\n",
              "      fill: #1967D2;\n",
              "      height: 32px;\n",
              "      padding: 0 0 0 0;\n",
              "      width: 32px;\n",
              "    }\n",
              "\n",
              "    .colab-df-convert:hover {\n",
              "      background-color: #E2EBFA;\n",
              "      box-shadow: 0px 1px 2px rgba(60, 64, 67, 0.3), 0px 1px 3px 1px rgba(60, 64, 67, 0.15);\n",
              "      fill: #174EA6;\n",
              "    }\n",
              "\n",
              "    [theme=dark] .colab-df-convert {\n",
              "      background-color: #3B4455;\n",
              "      fill: #D2E3FC;\n",
              "    }\n",
              "\n",
              "    [theme=dark] .colab-df-convert:hover {\n",
              "      background-color: #434B5C;\n",
              "      box-shadow: 0px 1px 3px 1px rgba(0, 0, 0, 0.15);\n",
              "      filter: drop-shadow(0px 1px 2px rgba(0, 0, 0, 0.3));\n",
              "      fill: #FFFFFF;\n",
              "    }\n",
              "  </style>\n",
              "\n",
              "      <script>\n",
              "        const buttonEl =\n",
              "          document.querySelector('#df-5b0d93c6-c127-4ef7-974f-7084c43df468 button.colab-df-convert');\n",
              "        buttonEl.style.display =\n",
              "          google.colab.kernel.accessAllowed ? 'block' : 'none';\n",
              "\n",
              "        async function convertToInteractive(key) {\n",
              "          const element = document.querySelector('#df-5b0d93c6-c127-4ef7-974f-7084c43df468');\n",
              "          const dataTable =\n",
              "            await google.colab.kernel.invokeFunction('convertToInteractive',\n",
              "                                                     [key], {});\n",
              "          if (!dataTable) return;\n",
              "\n",
              "          const docLinkHtml = 'Like what you see? Visit the ' +\n",
              "            '<a target=\"_blank\" href=https://colab.research.google.com/notebooks/data_table.ipynb>data table notebook</a>'\n",
              "            + ' to learn more about interactive tables.';\n",
              "          element.innerHTML = '';\n",
              "          dataTable['output_type'] = 'display_data';\n",
              "          await google.colab.output.renderOutput(dataTable, element);\n",
              "          const docLink = document.createElement('div');\n",
              "          docLink.innerHTML = docLinkHtml;\n",
              "          element.appendChild(docLink);\n",
              "        }\n",
              "      </script>\n",
              "    </div>\n",
              "  </div>\n",
              "  "
            ]
          },
          "metadata": {},
          "execution_count": 81
        }
      ],
      "source": [
        "X_train_pd = pd.DataFrame(X_train)\n",
        "\n",
        "# First 15 rows of our dataset.\n",
        "X_train_pd"
      ]
    },
    {
      "cell_type": "markdown",
      "metadata": {
        "nbgrader": {
          "grade": false,
          "grade_id": "cell-98e7d91d77d65fcf",
          "locked": true,
          "schema_version": 2,
          "solution": false
        },
        "id": "EMk8E3dr55uh"
      },
      "source": [
        "Methods `describe` and `info` deliver some useful information."
      ]
    },
    {
      "cell_type": "code",
      "execution_count": null,
      "metadata": {
        "id": "vECx7EjB55ui",
        "outputId": "40013ddc-69ae-4fcd-dce5-bdf3b03679e3",
        "collapsed": true
      },
      "outputs": [
        {
          "data": {
            "text/html": [
              "<div>\n",
              "<style scoped>\n",
              "    .dataframe tbody tr th:only-of-type {\n",
              "        vertical-align: middle;\n",
              "    }\n",
              "\n",
              "    .dataframe tbody tr th {\n",
              "        vertical-align: top;\n",
              "    }\n",
              "\n",
              "    .dataframe thead th {\n",
              "        text-align: right;\n",
              "    }\n",
              "</style>\n",
              "<table border=\"1\" class=\"dataframe\">\n",
              "  <thead>\n",
              "    <tr style=\"text-align: right;\">\n",
              "      <th></th>\n",
              "      <th>0</th>\n",
              "      <th>1</th>\n",
              "      <th>2</th>\n",
              "      <th>3</th>\n",
              "      <th>4</th>\n",
              "      <th>5</th>\n",
              "      <th>6</th>\n",
              "      <th>7</th>\n",
              "      <th>8</th>\n",
              "      <th>9</th>\n",
              "      <th>10</th>\n",
              "      <th>11</th>\n",
              "      <th>12</th>\n",
              "      <th>13</th>\n",
              "      <th>14</th>\n",
              "      <th>15</th>\n",
              "      <th>16</th>\n",
              "      <th>17</th>\n",
              "      <th>18</th>\n",
              "    </tr>\n",
              "  </thead>\n",
              "  <tbody>\n",
              "    <tr>\n",
              "      <th>count</th>\n",
              "      <td>549.000000</td>\n",
              "      <td>549.000000</td>\n",
              "      <td>549.000000</td>\n",
              "      <td>549.000000</td>\n",
              "      <td>549.000000</td>\n",
              "      <td>549.000000</td>\n",
              "      <td>549.000000</td>\n",
              "      <td>549.000000</td>\n",
              "      <td>549.000000</td>\n",
              "      <td>549.000000</td>\n",
              "      <td>549.000000</td>\n",
              "      <td>549.000000</td>\n",
              "      <td>549.000000</td>\n",
              "      <td>549.000000</td>\n",
              "      <td>549.000000</td>\n",
              "      <td>549.000000</td>\n",
              "      <td>549.000000</td>\n",
              "      <td>549.000000</td>\n",
              "      <td>549.000000</td>\n",
              "    </tr>\n",
              "    <tr>\n",
              "      <th>mean</th>\n",
              "      <td>432.114754</td>\n",
              "      <td>93.839709</td>\n",
              "      <td>44.765027</td>\n",
              "      <td>81.872495</td>\n",
              "      <td>169.358834</td>\n",
              "      <td>61.817851</td>\n",
              "      <td>8.433515</td>\n",
              "      <td>168.934426</td>\n",
              "      <td>40.865209</td>\n",
              "      <td>20.588342</td>\n",
              "      <td>147.571949</td>\n",
              "      <td>188.744991</td>\n",
              "      <td>440.672131</td>\n",
              "      <td>174.539162</td>\n",
              "      <td>72.449909</td>\n",
              "      <td>6.557377</td>\n",
              "      <td>12.568306</td>\n",
              "      <td>189.030965</td>\n",
              "      <td>195.491803</td>\n",
              "    </tr>\n",
              "    <tr>\n",
              "      <th>std</th>\n",
              "      <td>240.666501</td>\n",
              "      <td>8.335779</td>\n",
              "      <td>6.190806</td>\n",
              "      <td>15.647408</td>\n",
              "      <td>32.834864</td>\n",
              "      <td>7.971412</td>\n",
              "      <td>4.491440</td>\n",
              "      <td>33.163102</td>\n",
              "      <td>7.790602</td>\n",
              "      <td>2.588917</td>\n",
              "      <td>14.451808</td>\n",
              "      <td>31.241299</td>\n",
              "      <td>176.701194</td>\n",
              "      <td>32.845869</td>\n",
              "      <td>7.308114</td>\n",
              "      <td>5.006099</td>\n",
              "      <td>9.010809</td>\n",
              "      <td>6.200788</td>\n",
              "      <td>7.435024</td>\n",
              "    </tr>\n",
              "    <tr>\n",
              "      <th>min</th>\n",
              "      <td>0.000000</td>\n",
              "      <td>77.000000</td>\n",
              "      <td>33.000000</td>\n",
              "      <td>40.000000</td>\n",
              "      <td>104.000000</td>\n",
              "      <td>47.000000</td>\n",
              "      <td>3.000000</td>\n",
              "      <td>112.000000</td>\n",
              "      <td>26.000000</td>\n",
              "      <td>17.000000</td>\n",
              "      <td>118.000000</td>\n",
              "      <td>130.000000</td>\n",
              "      <td>184.000000</td>\n",
              "      <td>109.000000</td>\n",
              "      <td>60.000000</td>\n",
              "      <td>0.000000</td>\n",
              "      <td>0.000000</td>\n",
              "      <td>177.000000</td>\n",
              "      <td>181.000000</td>\n",
              "    </tr>\n",
              "    <tr>\n",
              "      <th>25%</th>\n",
              "      <td>225.000000</td>\n",
              "      <td>87.000000</td>\n",
              "      <td>40.000000</td>\n",
              "      <td>70.000000</td>\n",
              "      <td>142.000000</td>\n",
              "      <td>57.000000</td>\n",
              "      <td>6.000000</td>\n",
              "      <td>147.000000</td>\n",
              "      <td>34.000000</td>\n",
              "      <td>19.000000</td>\n",
              "      <td>136.000000</td>\n",
              "      <td>167.000000</td>\n",
              "      <td>319.000000</td>\n",
              "      <td>149.000000</td>\n",
              "      <td>67.000000</td>\n",
              "      <td>2.000000</td>\n",
              "      <td>5.000000</td>\n",
              "      <td>184.000000</td>\n",
              "      <td>190.000000</td>\n",
              "    </tr>\n",
              "    <tr>\n",
              "      <th>50%</th>\n",
              "      <td>431.000000</td>\n",
              "      <td>93.000000</td>\n",
              "      <td>44.000000</td>\n",
              "      <td>79.000000</td>\n",
              "      <td>169.000000</td>\n",
              "      <td>61.000000</td>\n",
              "      <td>8.000000</td>\n",
              "      <td>157.000000</td>\n",
              "      <td>43.000000</td>\n",
              "      <td>20.000000</td>\n",
              "      <td>146.000000</td>\n",
              "      <td>179.000000</td>\n",
              "      <td>367.000000</td>\n",
              "      <td>174.000000</td>\n",
              "      <td>71.000000</td>\n",
              "      <td>6.000000</td>\n",
              "      <td>11.000000</td>\n",
              "      <td>189.000000</td>\n",
              "      <td>197.000000</td>\n",
              "    </tr>\n",
              "    <tr>\n",
              "      <th>75%</th>\n",
              "      <td>644.000000</td>\n",
              "      <td>100.000000</td>\n",
              "      <td>49.000000</td>\n",
              "      <td>96.000000</td>\n",
              "      <td>195.000000</td>\n",
              "      <td>65.000000</td>\n",
              "      <td>10.000000</td>\n",
              "      <td>195.000000</td>\n",
              "      <td>46.000000</td>\n",
              "      <td>22.000000</td>\n",
              "      <td>159.000000</td>\n",
              "      <td>216.000000</td>\n",
              "      <td>575.000000</td>\n",
              "      <td>198.000000</td>\n",
              "      <td>75.000000</td>\n",
              "      <td>10.000000</td>\n",
              "      <td>19.000000</td>\n",
              "      <td>193.000000</td>\n",
              "      <td>201.000000</td>\n",
              "    </tr>\n",
              "    <tr>\n",
              "      <th>max</th>\n",
              "      <td>845.000000</td>\n",
              "      <td>119.000000</td>\n",
              "      <td>59.000000</td>\n",
              "      <td>112.000000</td>\n",
              "      <td>322.000000</td>\n",
              "      <td>133.000000</td>\n",
              "      <td>52.000000</td>\n",
              "      <td>265.000000</td>\n",
              "      <td>61.000000</td>\n",
              "      <td>29.000000</td>\n",
              "      <td>186.000000</td>\n",
              "      <td>287.000000</td>\n",
              "      <td>1018.000000</td>\n",
              "      <td>268.000000</td>\n",
              "      <td>127.000000</td>\n",
              "      <td>22.000000</td>\n",
              "      <td>41.000000</td>\n",
              "      <td>206.000000</td>\n",
              "      <td>211.000000</td>\n",
              "    </tr>\n",
              "  </tbody>\n",
              "</table>\n",
              "</div>"
            ],
            "text/plain": [
              "               0           1           2           3           4           5   \\\n",
              "count  549.000000  549.000000  549.000000  549.000000  549.000000  549.000000   \n",
              "mean   432.114754   93.839709   44.765027   81.872495  169.358834   61.817851   \n",
              "std    240.666501    8.335779    6.190806   15.647408   32.834864    7.971412   \n",
              "min      0.000000   77.000000   33.000000   40.000000  104.000000   47.000000   \n",
              "25%    225.000000   87.000000   40.000000   70.000000  142.000000   57.000000   \n",
              "50%    431.000000   93.000000   44.000000   79.000000  169.000000   61.000000   \n",
              "75%    644.000000  100.000000   49.000000   96.000000  195.000000   65.000000   \n",
              "max    845.000000  119.000000   59.000000  112.000000  322.000000  133.000000   \n",
              "\n",
              "               6           7           8           9           10          11  \\\n",
              "count  549.000000  549.000000  549.000000  549.000000  549.000000  549.000000   \n",
              "mean     8.433515  168.934426   40.865209   20.588342  147.571949  188.744991   \n",
              "std      4.491440   33.163102    7.790602    2.588917   14.451808   31.241299   \n",
              "min      3.000000  112.000000   26.000000   17.000000  118.000000  130.000000   \n",
              "25%      6.000000  147.000000   34.000000   19.000000  136.000000  167.000000   \n",
              "50%      8.000000  157.000000   43.000000   20.000000  146.000000  179.000000   \n",
              "75%     10.000000  195.000000   46.000000   22.000000  159.000000  216.000000   \n",
              "max     52.000000  265.000000   61.000000   29.000000  186.000000  287.000000   \n",
              "\n",
              "                12          13          14          15          16  \\\n",
              "count   549.000000  549.000000  549.000000  549.000000  549.000000   \n",
              "mean    440.672131  174.539162   72.449909    6.557377   12.568306   \n",
              "std     176.701194   32.845869    7.308114    5.006099    9.010809   \n",
              "min     184.000000  109.000000   60.000000    0.000000    0.000000   \n",
              "25%     319.000000  149.000000   67.000000    2.000000    5.000000   \n",
              "50%     367.000000  174.000000   71.000000    6.000000   11.000000   \n",
              "75%     575.000000  198.000000   75.000000   10.000000   19.000000   \n",
              "max    1018.000000  268.000000  127.000000   22.000000   41.000000   \n",
              "\n",
              "               17          18  \n",
              "count  549.000000  549.000000  \n",
              "mean   189.030965  195.491803  \n",
              "std      6.200788    7.435024  \n",
              "min    177.000000  181.000000  \n",
              "25%    184.000000  190.000000  \n",
              "50%    189.000000  197.000000  \n",
              "75%    193.000000  201.000000  \n",
              "max    206.000000  211.000000  "
            ]
          },
          "execution_count": 4,
          "metadata": {},
          "output_type": "execute_result"
        }
      ],
      "source": [
        "X_train_pd.describe()"
      ]
    },
    {
      "cell_type": "code",
      "execution_count": null,
      "metadata": {
        "id": "sT3nVLXD55uj",
        "outputId": "685a30e2-b764-407f-bfd5-60f8e42ea991",
        "collapsed": true
      },
      "outputs": [
        {
          "name": "stdout",
          "output_type": "stream",
          "text": [
            "<class 'pandas.core.frame.DataFrame'>\n",
            "RangeIndex: 549 entries, 0 to 548\n",
            "Data columns (total 19 columns):\n",
            " #   Column  Non-Null Count  Dtype\n",
            "---  ------  --------------  -----\n",
            " 0   0       549 non-null    int64\n",
            " 1   1       549 non-null    int64\n",
            " 2   2       549 non-null    int64\n",
            " 3   3       549 non-null    int64\n",
            " 4   4       549 non-null    int64\n",
            " 5   5       549 non-null    int64\n",
            " 6   6       549 non-null    int64\n",
            " 7   7       549 non-null    int64\n",
            " 8   8       549 non-null    int64\n",
            " 9   9       549 non-null    int64\n",
            " 10  10      549 non-null    int64\n",
            " 11  11      549 non-null    int64\n",
            " 12  12      549 non-null    int64\n",
            " 13  13      549 non-null    int64\n",
            " 14  14      549 non-null    int64\n",
            " 15  15      549 non-null    int64\n",
            " 16  16      549 non-null    int64\n",
            " 17  17      549 non-null    int64\n",
            " 18  18      549 non-null    int64\n",
            "dtypes: int64(19)\n",
            "memory usage: 81.6 KB\n"
          ]
        }
      ],
      "source": [
        "X_train_pd.info()"
      ]
    },
    {
      "cell_type": "markdown",
      "metadata": {
        "nbgrader": {
          "grade": false,
          "grade_id": "cell-be844269be69c387",
          "locked": true,
          "schema_version": 2,
          "solution": false
        },
        "id": "YOFV6isP55uk"
      },
      "source": [
        "### 2. Machine Learning pipeline\n",
        "Here you are supposed to perform the desired transformations. Please, explain your results briefly after each task."
      ]
    },
    {
      "cell_type": "markdown",
      "metadata": {
        "id": "SaDCEKav55ul"
      },
      "source": [
        "#### 2.0. Data preprocessing\n",
        "* Make some transformations of the dataset (if necessary). Briefly explain the transformations"
      ]
    },
    {
      "cell_type": "code",
      "source": [
        "pd.DataFrame(data).hist(figsize=(13,10))"
      ],
      "metadata": {
        "colab": {
          "base_uri": "https://localhost:8080/",
          "height": 1000
        },
        "id": "IhzS-4GISrFu",
        "outputId": "4c3e324c-2104-4a37-b329-b31b59bfbaa4"
      },
      "execution_count": null,
      "outputs": [
        {
          "output_type": "execute_result",
          "data": {
            "text/plain": [
              "array([[<Axes: title={'center': '0'}>, <Axes: title={'center': '1'}>,\n",
              "        <Axes: title={'center': '2'}>, <Axes: title={'center': '3'}>],\n",
              "       [<Axes: title={'center': '4'}>, <Axes: title={'center': '5'}>,\n",
              "        <Axes: title={'center': '6'}>, <Axes: title={'center': '7'}>],\n",
              "       [<Axes: title={'center': '8'}>, <Axes: title={'center': '9'}>,\n",
              "        <Axes: title={'center': '10'}>, <Axes: title={'center': '11'}>],\n",
              "       [<Axes: title={'center': '12'}>, <Axes: title={'center': '13'}>,\n",
              "        <Axes: title={'center': '14'}>, <Axes: title={'center': '15'}>],\n",
              "       [<Axes: title={'center': '16'}>, <Axes: title={'center': '17'}>,\n",
              "        <Axes: title={'center': '18'}>, <Axes: >]], dtype=object)"
            ]
          },
          "metadata": {},
          "execution_count": 3
        },
        {
          "output_type": "display_data",
          "data": {
            "text/plain": [
              "<Figure size 1300x1000 with 20 Axes>"
            ],
            "image/png": "[encoded data removed]"
          },
          "metadata": {}
        }
      ]
    },
    {
      "cell_type": "markdown",
      "source": [
        "Столбец  признаком '0'. Вызыает вопросы. Посмотрим на него повнимательней: \n",
        "\n"
      ],
      "metadata": {
        "id": "1J7oL_2rXg9c"
      }
    },
    {
      "cell_type": "code",
      "source": [
        "df = pd.DataFrame(data)\n",
        "#оказалось, что первый столбец дублирует индексы датафрейма. удалим его\n",
        "df.drop(columns=0, inplace=True)\n",
        "df"
      ],
      "metadata": {
        "colab": {
          "base_uri": "https://localhost:8080/",
          "height": 424
        },
        "id": "gY8HwISMtT1J",
        "outputId": "96fa29ee-845b-46e5-de2c-f6943159935e"
      },
      "execution_count": 3,
      "outputs": [
        {
          "output_type": "execute_result",
          "data": {
            "text/plain": [
              "      1   2    3    4    5   6    7   8   9    10   11   12   13   14  15  16  \\\n",
              "0     95  48   83  178   72  10  162  42  20  159  176  379  184   70   6  16   \n",
              "1     91  41   84  141   57   9  149  45  19  143  170  330  158   72   9  14   \n",
              "2    104  50  106  209   66  10  207  32  23  158  223  635  220   73  14   9   \n",
              "3     93  41   82  159   63   9  144  46  19  143  160  309  127   63   6  10   \n",
              "4     85  44   70  205  103  52  149  45  19  144  241  325  188  127   9  11   \n",
              "..   ...  ..  ...  ...  ...  ..  ...  ..  ..  ...  ...  ...  ...  ...  ..  ..   \n",
              "841   93  39   87  183   64   8  169  40  20  134  200  422  149   72   7  25   \n",
              "842   89  46   84  163   66  11  159  43  20  159  173  368  176   72   1  20   \n",
              "843  106  54  101  222   67  12  222  30  25  173  228  721  200   70   3   4   \n",
              "844   86  36   78  146   58   7  135  50  18  124  155  270  148   66   0  25   \n",
              "845   85  36   66  123   55   5  120  56  17  128  140  212  131   73   1  18   \n",
              "\n",
              "      17   18  \n",
              "0    187  197  \n",
              "1    189  199  \n",
              "2    188  196  \n",
              "3    199  207  \n",
              "4    180  183  \n",
              "..   ...  ...  \n",
              "841  188  195  \n",
              "842  186  197  \n",
              "843  187  201  \n",
              "844  190  195  \n",
              "845  186  190  \n",
              "\n",
              "[846 rows x 18 columns]"
            ],
            "text/html": [
              "\n",
              "  <div id=\"df-01721e86-0688-4aa0-bae2-abd32b6b969e\">\n",
              "    <div class=\"colab-df-container\">\n",
              "      <div>\n",
              "<style scoped>\n",
              "    .dataframe tbody tr th:only-of-type {\n",
              "        vertical-align: middle;\n",
              "    }\n",
              "\n",
              "    .dataframe tbody tr th {\n",
              "        vertical-align: top;\n",
              "    }\n",
              "\n",
              "    .dataframe thead th {\n",
              "        text-align: right;\n",
              "    }\n",
              "</style>\n",
              "<table border=\"1\" class=\"dataframe\">\n",
              "  <thead>\n",
              "    <tr style=\"text-align: right;\">\n",
              "      <th></th>\n",
              "      <th>1</th>\n",
              "      <th>2</th>\n",
              "      <th>3</th>\n",
              "      <th>4</th>\n",
              "      <th>5</th>\n",
              "      <th>6</th>\n",
              "      <th>7</th>\n",
              "      <th>8</th>\n",
              "      <th>9</th>\n",
              "      <th>10</th>\n",
              "      <th>11</th>\n",
              "      <th>12</th>\n",
              "      <th>13</th>\n",
              "      <th>14</th>\n",
              "      <th>15</th>\n",
              "      <th>16</th>\n",
              "      <th>17</th>\n",
              "      <th>18</th>\n",
              "    </tr>\n",
              "  </thead>\n",
              "  <tbody>\n",
              "    <tr>\n",
              "      <th>0</th>\n",
              "      <td>95</td>\n",
              "      <td>48</td>\n",
              "      <td>83</td>\n",
              "      <td>178</td>\n",
              "      <td>72</td>\n",
              "      <td>10</td>\n",
              "      <td>162</td>\n",
              "      <td>42</td>\n",
              "      <td>20</td>\n",
              "      <td>159</td>\n",
              "      <td>176</td>\n",
              "      <td>379</td>\n",
              "      <td>184</td>\n",
              "      <td>70</td>\n",
              "      <td>6</td>\n",
              "      <td>16</td>\n",
              "      <td>187</td>\n",
              "      <td>197</td>\n",
              "    </tr>\n",
              "    <tr>\n",
              "      <th>1</th>\n",
              "      <td>91</td>\n",
              "      <td>41</td>\n",
              "      <td>84</td>\n",
              "      <td>141</td>\n",
              "      <td>57</td>\n",
              "      <td>9</td>\n",
              "      <td>149</td>\n",
              "      <td>45</td>\n",
              "      <td>19</td>\n",
              "      <td>143</td>\n",
              "      <td>170</td>\n",
              "      <td>330</td>\n",
              "      <td>158</td>\n",
              "      <td>72</td>\n",
              "      <td>9</td>\n",
              "      <td>14</td>\n",
              "      <td>189</td>\n",
              "      <td>199</td>\n",
              "    </tr>\n",
              "    <tr>\n",
              "      <th>2</th>\n",
              "      <td>104</td>\n",
              "      <td>50</td>\n",
              "      <td>106</td>\n",
              "      <td>209</td>\n",
              "      <td>66</td>\n",
              "      <td>10</td>\n",
              "      <td>207</td>\n",
              "      <td>32</td>\n",
              "      <td>23</td>\n",
              "      <td>158</td>\n",
              "      <td>223</td>\n",
              "      <td>635</td>\n",
              "      <td>220</td>\n",
              "      <td>73</td>\n",
              "      <td>14</td>\n",
              "      <td>9</td>\n",
              "      <td>188</td>\n",
              "      <td>196</td>\n",
              "    </tr>\n",
              "    <tr>\n",
              "      <th>3</th>\n",
              "      <td>93</td>\n",
              "      <td>41</td>\n",
              "      <td>82</td>\n",
              "      <td>159</td>\n",
              "      <td>63</td>\n",
              "      <td>9</td>\n",
              "      <td>144</td>\n",
              "      <td>46</td>\n",
              "      <td>19</td>\n",
              "      <td>143</td>\n",
              "      <td>160</td>\n",
              "      <td>309</td>\n",
              "      <td>127</td>\n",
              "      <td>63</td>\n",
              "      <td>6</td>\n",
              "      <td>10</td>\n",
              "      <td>199</td>\n",
              "      <td>207</td>\n",
              "    </tr>\n",
              "    <tr>\n",
              "      <th>4</th>\n",
              "      <td>85</td>\n",
              "      <td>44</td>\n",
              "      <td>70</td>\n",
              "      <td>205</td>\n",
              "      <td>103</td>\n",
              "      <td>52</td>\n",
              "      <td>149</td>\n",
              "      <td>45</td>\n",
              "      <td>19</td>\n",
              "      <td>144</td>\n",
              "      <td>241</td>\n",
              "      <td>325</td>\n",
              "      <td>188</td>\n",
              "      <td>127</td>\n",
              "      <td>9</td>\n",
              "      <td>11</td>\n",
              "      <td>180</td>\n",
              "      <td>183</td>\n",
              "    </tr>\n",
              "    <tr>\n",
              "      <th>...</th>\n",
              "      <td>...</td>\n",
              "      <td>...</td>\n",
              "      <td>...</td>\n",
              "      <td>...</td>\n",
              "      <td>...</td>\n",
              "      <td>...</td>\n",
              "      <td>...</td>\n",
              "      <td>...</td>\n",
              "      <td>...</td>\n",
              "      <td>...</td>\n",
              "      <td>...</td>\n",
              "      <td>...</td>\n",
              "      <td>...</td>\n",
              "      <td>...</td>\n",
              "      <td>...</td>\n",
              "      <td>...</td>\n",
              "      <td>...</td>\n",
              "      <td>...</td>\n",
              "    </tr>\n",
              "    <tr>\n",
              "      <th>841</th>\n",
              "      <td>93</td>\n",
              "      <td>39</td>\n",
              "      <td>87</td>\n",
              "      <td>183</td>\n",
              "      <td>64</td>\n",
              "      <td>8</td>\n",
              "      <td>169</td>\n",
              "      <td>40</td>\n",
              "      <td>20</td>\n",
              "      <td>134</td>\n",
              "      <td>200</td>\n",
              "      <td>422</td>\n",
              "      <td>149</td>\n",
              "      <td>72</td>\n",
              "      <td>7</td>\n",
              "      <td>25</td>\n",
              "      <td>188</td>\n",
              "      <td>195</td>\n",
              "    </tr>\n",
              "    <tr>\n",
              "      <th>842</th>\n",
              "      <td>89</td>\n",
              "      <td>46</td>\n",
              "      <td>84</td>\n",
              "      <td>163</td>\n",
              "      <td>66</td>\n",
              "      <td>11</td>\n",
              "      <td>159</td>\n",
              "      <td>43</td>\n",
              "      <td>20</td>\n",
              "      <td>159</td>\n",
              "      <td>173</td>\n",
              "      <td>368</td>\n",
              "      <td>176</td>\n",
              "      <td>72</td>\n",
              "      <td>1</td>\n",
              "      <td>20</td>\n",
              "      <td>186</td>\n",
              "      <td>197</td>\n",
              "    </tr>\n",
              "    <tr>\n",
              "      <th>843</th>\n",
              "      <td>106</td>\n",
              "      <td>54</td>\n",
              "      <td>101</td>\n",
              "      <td>222</td>\n",
              "      <td>67</td>\n",
              "      <td>12</td>\n",
              "      <td>222</td>\n",
              "      <td>30</td>\n",
              "      <td>25</td>\n",
              "      <td>173</td>\n",
              "      <td>228</td>\n",
              "      <td>721</td>\n",
              "      <td>200</td>\n",
              "      <td>70</td>\n",
              "      <td>3</td>\n",
              "      <td>4</td>\n",
              "      <td>187</td>\n",
              "      <td>201</td>\n",
              "    </tr>\n",
              "    <tr>\n",
              "      <th>844</th>\n",
              "      <td>86</td>\n",
              "      <td>36</td>\n",
              "      <td>78</td>\n",
              "      <td>146</td>\n",
              "      <td>58</td>\n",
              "      <td>7</td>\n",
              "      <td>135</td>\n",
              "      <td>50</td>\n",
              "      <td>18</td>\n",
              "      <td>124</td>\n",
              "      <td>155</td>\n",
              "      <td>270</td>\n",
              "      <td>148</td>\n",
              "      <td>66</td>\n",
              "      <td>0</td>\n",
              "      <td>25</td>\n",
              "      <td>190</td>\n",
              "      <td>195</td>\n",
              "    </tr>\n",
              "    <tr>\n",
              "      <th>845</th>\n",
              "      <td>85</td>\n",
              "      <td>36</td>\n",
              "      <td>66</td>\n",
              "      <td>123</td>\n",
              "      <td>55</td>\n",
              "      <td>5</td>\n",
              "      <td>120</td>\n",
              "      <td>56</td>\n",
              "      <td>17</td>\n",
              "      <td>128</td>\n",
              "      <td>140</td>\n",
              "      <td>212</td>\n",
              "      <td>131</td>\n",
              "      <td>73</td>\n",
              "      <td>1</td>\n",
              "      <td>18</td>\n",
              "      <td>186</td>\n",
              "      <td>190</td>\n",
              "    </tr>\n",
              "  </tbody>\n",
              "</table>\n",
              "<p>846 rows × 18 columns</p>\n",
              "</div>\n",
              "      <button class=\"colab-df-convert\" onclick=\"convertToInteractive('df-01721e86-0688-4aa0-bae2-abd32b6b969e')\"\n",
              "              title=\"Convert this dataframe to an interactive table.\"\n",
              "              style=\"display:none;\">\n",
              "        \n",
              "  <svg xmlns=\"http://www.w3.org/2000/svg\" height=\"24px\"viewBox=\"0 0 24 24\"\n",
              "       width=\"24px\">\n",
              "    <path d=\"M0 0h24v24H0V0z\" fill=\"none\"/>\n",
              "    <path d=\"M18.56 5.44l.94 2.06.94-2.06 2.06-.94-2.06-.94-.94-2.06-.94 2.06-2.06.94zm-11 1L8.5 8.5l.94-2.06 2.06-.94-2.06-.94L8.5 2.5l-.94 2.06-2.06.94zm10 10l.94 2.06.94-2.06 2.06-.94-2.06-.94-.94-2.06-.94 2.06-2.06.94z\"/><path d=\"M17.41 7.96l-1.37-1.37c-.4-.4-.92-.59-1.43-.59-.52 0-1.04.2-1.43.59L10.3 9.45l-7.72 7.72c-.78.78-.78 2.05 0 2.83L4 21.41c.39.39.9.59 1.41.59.51 0 1.02-.2 1.41-.59l7.78-7.78 2.81-2.81c.8-.78.8-2.07 0-2.86zM5.41 20L4 18.59l7.72-7.72 1.47 1.35L5.41 20z\"/>\n",
              "  </svg>\n",
              "      </button>\n",
              "      \n",
              "  <style>\n",
              "    .colab-df-container {\n",
              "      display:flex;\n",
              "      flex-wrap:wrap;\n",
              "      gap: 12px;\n",
              "    }\n",
              "\n",
              "    .colab-df-convert {\n",
              "      background-color: #E8F0FE;\n",
              "      border: none;\n",
              "      border-radius: 50%;\n",
              "      cursor: pointer;\n",
              "      display: none;\n",
              "      fill: #1967D2;\n",
              "      height: 32px;\n",
              "      padding: 0 0 0 0;\n",
              "      width: 32px;\n",
              "    }\n",
              "\n",
              "    .colab-df-convert:hover {\n",
              "      background-color: #E2EBFA;\n",
              "      box-shadow: 0px 1px 2px rgba(60, 64, 67, 0.3), 0px 1px 3px 1px rgba(60, 64, 67, 0.15);\n",
              "      fill: #174EA6;\n",
              "    }\n",
              "\n",
              "    [theme=dark] .colab-df-convert {\n",
              "      background-color: #3B4455;\n",
              "      fill: #D2E3FC;\n",
              "    }\n",
              "\n",
              "    [theme=dark] .colab-df-convert:hover {\n",
              "      background-color: #434B5C;\n",
              "      box-shadow: 0px 1px 3px 1px rgba(0, 0, 0, 0.15);\n",
              "      filter: drop-shadow(0px 1px 2px rgba(0, 0, 0, 0.3));\n",
              "      fill: #FFFFFF;\n",
              "    }\n",
              "  </style>\n",
              "\n",
              "      <script>\n",
              "        const buttonEl =\n",
              "          document.querySelector('#df-01721e86-0688-4aa0-bae2-abd32b6b969e button.colab-df-convert');\n",
              "        buttonEl.style.display =\n",
              "          google.colab.kernel.accessAllowed ? 'block' : 'none';\n",
              "\n",
              "        async function convertToInteractive(key) {\n",
              "          const element = document.querySelector('#df-01721e86-0688-4aa0-bae2-abd32b6b969e');\n",
              "          const dataTable =\n",
              "            await google.colab.kernel.invokeFunction('convertToInteractive',\n",
              "                                                     [key], {});\n",
              "          if (!dataTable) return;\n",
              "\n",
              "          const docLinkHtml = 'Like what you see? Visit the ' +\n",
              "            '<a target=\"_blank\" href=https://colab.research.google.com/notebooks/data_table.ipynb>data table notebook</a>'\n",
              "            + ' to learn more about interactive tables.';\n",
              "          element.innerHTML = '';\n",
              "          dataTable['output_type'] = 'display_data';\n",
              "          await google.colab.output.renderOutput(dataTable, element);\n",
              "          const docLink = document.createElement('div');\n",
              "          docLink.innerHTML = docLinkHtml;\n",
              "          element.appendChild(docLink);\n",
              "        }\n",
              "      </script>\n",
              "    </div>\n",
              "  </div>\n",
              "  "
            ]
          },
          "metadata": {},
          "execution_count": 3
        }
      ]
    },
    {
      "cell_type": "code",
      "source": [
        "#построим матрицу корелляций признаков\n",
        "#номера колонок начинаются с 1. номера индексов начинаются с 0.\n",
        "#создадим в цикле массив-сдвига shift, который сдвинет индексы колонок с высокой корреляцией на единичку вправо, \n",
        "#чтобы они соответствовали номерам колонок для удобства восприятия\n",
        "\n",
        "corr = df.corr()\n",
        "dep_feat = corr.apply(lambda x: x > 0.9)\n",
        "for col in corr.columns:                                                             \n",
        "  shift = np.ones_like(np.where(dep_feat[col])[0])                                                                                                                       \n",
        "  print(f'Column №{col}; corresponding list{np.where(dep_feat[col])[0] + shift }')   \n"
      ],
      "metadata": {
        "colab": {
          "base_uri": "https://localhost:8080/"
        },
        "id": "8DiyO1Uiul1B",
        "outputId": "ccc50081-b524-4d87-80bf-7c07f1c28f57"
      },
      "execution_count": 4,
      "outputs": [
        {
          "output_type": "stream",
          "name": "stdout",
          "text": [
            "Column №1; corresponding list[1]\n",
            "Column №2; corresponding list[ 2 10 13]\n",
            "Column №3; corresponding list[3 7]\n",
            "Column №4; corresponding list[4]\n",
            "Column №5; corresponding list[5]\n",
            "Column №6; corresponding list[6]\n",
            "Column №7; corresponding list[ 3  7  9 11 12]\n",
            "Column №8; corresponding list[8]\n",
            "Column №9; corresponding list[ 7  9 11 12]\n",
            "Column №10; corresponding list[ 2 10]\n",
            "Column №11; corresponding list[ 7  9 11 12]\n",
            "Column №12; corresponding list[ 7  9 11 12]\n",
            "Column №13; corresponding list[ 2 13]\n",
            "Column №14; corresponding list[14]\n",
            "Column №15; corresponding list[15]\n",
            "Column №16; corresponding list[16]\n",
            "Column №17; corresponding list[17]\n",
            "Column №18; corresponding list[18]\n"
          ]
        }
      ]
    },
    {
      "cell_type": "markdown",
      "source": [
        "На основе полученных данных можем сдедать вывод, что признаки под номерами 6,8,9,10, 11, 12 могут быть удалены из датафрейма"
      ],
      "metadata": {
        "id": "VXzcA5mBv1_n"
      }
    },
    {
      "cell_type": "code",
      "source": [
        "df_independ = df.drop(columns=[6,8,9,10,11,12])\n",
        "targ = pd.DataFrame(target)\n"
      ],
      "metadata": {
        "id": "DCGx2cM_wSom"
      },
      "execution_count": 5,
      "outputs": []
    },
    {
      "cell_type": "code",
      "source": [
        "X_train, X_test, y_train, y_test = train_test_split(df_independ, targ, test_size=0.35)\n",
        "print(X_train.shape, y_train.shape, X_test.shape, y_test.shape)"
      ],
      "metadata": {
        "colab": {
          "base_uri": "https://localhost:8080/"
        },
        "id": "4oMidEEUvgUQ",
        "outputId": "fb506719-4e1f-421d-b1d9-344517603960"
      },
      "execution_count": 6,
      "outputs": [
        {
          "output_type": "stream",
          "name": "stdout",
          "text": [
            "(549, 12) (549, 1) (297, 12) (297, 1)\n"
          ]
        }
      ]
    },
    {
      "cell_type": "code",
      "source": [
        "! pip install scikit-plot\n"
      ],
      "metadata": {
        "collapsed": true,
        "colab": {
          "base_uri": "https://localhost:8080/"
        },
        "id": "8uuZPfw9Yyqh",
        "outputId": "134076a7-8bb1-435b-ffbb-d59fd52be85e"
      },
      "execution_count": 7,
      "outputs": [
        {
          "output_type": "stream",
          "name": "stdout",
          "text": [
            "Looking in indexes: https://pypi.org/simple, https://us-python.pkg.dev/colab-wheels/public/simple/\n",
            "Collecting scikit-plot\n",
            "  Downloading scikit_plot-0.3.7-py3-none-any.whl (33 kB)\n",
            "Requirement already satisfied: scipy>=0.9 in /usr/local/lib/python3.9/dist-packages (from scikit-plot) (1.10.1)\n",
            "Requirement already satisfied: joblib>=0.10 in /usr/local/lib/python3.9/dist-packages (from scikit-plot) (1.1.1)\n",
            "Requirement already satisfied: scikit-learn>=0.18 in /usr/local/lib/python3.9/dist-packages (from scikit-plot) (1.2.2)\n",
            "Requirement already satisfied: matplotlib>=1.4.0 in /usr/local/lib/python3.9/dist-packages (from scikit-plot) (3.7.1)\n",
            "Requirement already satisfied: contourpy>=1.0.1 in /usr/local/lib/python3.9/dist-packages (from matplotlib>=1.4.0->scikit-plot) (1.0.7)\n",
            "Requirement already satisfied: fonttools>=4.22.0 in /usr/local/lib/python3.9/dist-packages (from matplotlib>=1.4.0->scikit-plot) (4.39.3)\n",
            "Requirement already satisfied: numpy>=1.20 in /usr/local/lib/python3.9/dist-packages (from matplotlib>=1.4.0->scikit-plot) (1.22.4)\n",
            "Requirement already satisfied: pillow>=6.2.0 in /usr/local/lib/python3.9/dist-packages (from matplotlib>=1.4.0->scikit-plot) (8.4.0)\n",
            "Requirement already satisfied: cycler>=0.10 in /usr/local/lib/python3.9/dist-packages (from matplotlib>=1.4.0->scikit-plot) (0.11.0)\n",
            "Requirement already satisfied: pyparsing>=2.3.1 in /usr/local/lib/python3.9/dist-packages (from matplotlib>=1.4.0->scikit-plot) (3.0.9)\n",
            "Requirement already satisfied: kiwisolver>=1.0.1 in /usr/local/lib/python3.9/dist-packages (from matplotlib>=1.4.0->scikit-plot) (1.4.4)\n",
            "Requirement already satisfied: python-dateutil>=2.7 in /usr/local/lib/python3.9/dist-packages (from matplotlib>=1.4.0->scikit-plot) (2.8.2)\n",
            "Requirement already satisfied: packaging>=20.0 in /usr/local/lib/python3.9/dist-packages (from matplotlib>=1.4.0->scikit-plot) (23.0)\n",
            "Requirement already satisfied: importlib-resources>=3.2.0 in /usr/local/lib/python3.9/dist-packages (from matplotlib>=1.4.0->scikit-plot) (5.12.0)\n",
            "Requirement already satisfied: threadpoolctl>=2.0.0 in /usr/local/lib/python3.9/dist-packages (from scikit-learn>=0.18->scikit-plot) (3.1.0)\n",
            "Requirement already satisfied: zipp>=3.1.0 in /usr/local/lib/python3.9/dist-packages (from importlib-resources>=3.2.0->matplotlib>=1.4.0->scikit-plot) (3.15.0)\n",
            "Requirement already satisfied: six>=1.5 in /usr/local/lib/python3.9/dist-packages (from python-dateutil>=2.7->matplotlib>=1.4.0->scikit-plot) (1.16.0)\n",
            "Installing collected packages: scikit-plot\n",
            "Successfully installed scikit-plot-0.3.7\n"
          ]
        }
      ]
    },
    {
      "cell_type": "code",
      "execution_count": 8,
      "metadata": {
        "nbgrader": {
          "grade": true,
          "grade_id": "cell-a1514aa189a49fca",
          "locked": false,
          "points": 15,
          "schema_version": 2,
          "solution": true
        },
        "id": "r2kE5bW955ul"
      },
      "outputs": [],
      "source": [
        "from sklearn.linear_model import LogisticRegression\n",
        "from sklearn.metrics import accuracy_score\n",
        "from sklearn.metrics import classification_report\n",
        "from sklearn.metrics import f1_score\n",
        "from sklearn.metrics import roc_auc_score\n",
        "from sklearn.preprocessing import StandardScaler\n",
        "import scikitplot\n",
        "import warnings\n",
        "from sklearn.ensemble import BaggingClassifier\n",
        "from tqdm import tqdm\n",
        "\n",
        "\n",
        "warnings.filterwarnings('ignore')\n"
      ]
    },
    {
      "cell_type": "code",
      "source": [
        "sc = StandardScaler()\n",
        "X_train_std = sc.fit_transform(X_train)\n",
        "X_test_std = sc.transform(X_test)\n"
      ],
      "metadata": {
        "id": "z3ntuOW9Q1vE"
      },
      "execution_count": 9,
      "outputs": []
    },
    {
      "cell_type": "markdown",
      "metadata": {
        "id": "SzR3KnVy55um"
      },
      "source": [
        "#### 2.1. Basic logistic regression\n",
        "* Find optimal hyperparameters for logistic regression with cross-validation on the `train` data (small grid/random search is enough, no need to find the *best* parameters).\n",
        "\n",
        "* Estimate the model quality with `f1` and `accuracy` scores.\n",
        "* Plot a ROC-curve for the trained model. For the multiclass case you might use `scikitplot` library (e.g. `scikitplot.metrics.plot_roc(test_labels, predicted_proba)`).\n",
        "\n",
        "*Note: please, use the following hyperparameters for logistic regression: `multi_class='multinomial'`, `solver='saga'` `tol=1e-3` and ` max_iter=500`.*"
      ]
    },
    {
      "cell_type": "code",
      "source": [
        "#теперь попробуем осуществить поиск гиперпараметров\n",
        "# создадим словарь с параметрами, которые хотим установить и перебрать\n",
        "parameters = {\n",
        "    'C': [1, 10,50, 100, 150, 200, 250,300, 350,400, 450, 500]\n",
        "}\n",
        "\n",
        "lr_grid = LogisticRegression(max_iter=500, multi_class='multinomial', solver='saga',tol=0.001)\n",
        "# подаем на вход модель, словарь с параметрами, установим, на какую метрику ориентироваться\n",
        "clf_tuned = GridSearchCV(estimator=lr_grid,\n",
        "                   param_grid=parameters,\n",
        "                   scoring='accuracy',\n",
        "                   cv = 5)\n",
        "clf_tuned.fit(X_train_std, y_train)\n",
        "\n",
        "# получение вероятностей\n",
        "\n",
        "y_pred_grid = clf_tuned.best_estimator_.predict(X_test_std)\n",
        "y_pred_score = clf_tuned.predict_proba(X_test_std)\n",
        "f1_lg = f1_score(y_test, y_pred_grid, average='micro')\n",
        "\n",
        "print(f'Accuracy score:{round(accuracy_score(y_test, y_pred_grid),3)}')\n",
        "print(f'F1-score:{round(f1_lg,3)}')\n"
      ],
      "metadata": {
        "colab": {
          "base_uri": "https://localhost:8080/"
        },
        "id": "ILYMS3i74IZn",
        "outputId": "c415bf28-5be8-4e52-8af2-344dd3ba59d1"
      },
      "execution_count": 63,
      "outputs": [
        {
          "output_type": "stream",
          "name": "stdout",
          "text": [
            "Accuracy score:0.791\n",
            "F1-score:0.791\n"
          ]
        }
      ]
    },
    {
      "cell_type": "code",
      "source": [
        "clf_tuned.best_params_"
      ],
      "metadata": {
        "colab": {
          "base_uri": "https://localhost:8080/"
        },
        "id": "RWmStCk_7Ou5",
        "outputId": "f98011b6-8eb2-4c88-9e53-846a1a7e805b"
      },
      "execution_count": 12,
      "outputs": [
        {
          "output_type": "execute_result",
          "data": {
            "text/plain": [
              "{'C': 300}"
            ]
          },
          "metadata": {},
          "execution_count": 12
        }
      ]
    },
    {
      "cell_type": "code",
      "source": [
        "print(classification_report(y_test, y_pred_grid))\n"
      ],
      "metadata": {
        "colab": {
          "base_uri": "https://localhost:8080/"
        },
        "id": "Ewwx2KArAerE",
        "outputId": "6c1e189f-9224-42bb-c253-3128d8850282"
      },
      "execution_count": 13,
      "outputs": [
        {
          "output_type": "stream",
          "name": "stdout",
          "text": [
            "              precision    recall  f1-score   support\n",
            "\n",
            "         bus       0.93      0.93      0.93        73\n",
            "        opel       0.63      0.70      0.67        74\n",
            "        saab       0.70      0.62      0.66        84\n",
            "         van       0.93      0.95      0.94        66\n",
            "\n",
            "    accuracy                           0.79       297\n",
            "   macro avg       0.80      0.80      0.80       297\n",
            "weighted avg       0.79      0.79      0.79       297\n",
            "\n"
          ]
        }
      ]
    },
    {
      "cell_type": "markdown",
      "source": [
        " Логистическая регрессия в целом даёт хорошую точность предсказаний - 79%. \n",
        " \n",
        " Также стоит заметить, что точность предсказания классов(по всем метрикам) 'bus' и 'van' получилиась на 20-30% больше, чем у 'opel' и 'sab'."
      ],
      "metadata": {
        "id": "IQ7sZVqBZ3NU"
      }
    },
    {
      "cell_type": "code",
      "source": [
        "scikitplot.metrics.plot_roc(y_test, y_pred_score)"
      ],
      "metadata": {
        "colab": {
          "base_uri": "https://localhost:8080/",
          "height": 489
        },
        "id": "oTUyYUar7hrK",
        "outputId": "97e02f49-f79b-4eb5-ad70-2f8bd5156699"
      },
      "execution_count": 14,
      "outputs": [
        {
          "output_type": "execute_result",
          "data": {
            "text/plain": [
              "<Axes: title={'center': 'ROC Curves'}, xlabel='False Positive Rate', ylabel='True Positive Rate'>"
            ]
          },
          "metadata": {},
          "execution_count": 14
        },
        {
          "output_type": "display_data",
          "data": {
            "text/plain": [
              "<Figure size 640x480 with 1 Axes>"
            ],
            "image/png": "[encoded data removed]"
          },
          "metadata": {}
        }
      ]
    },
    {
      "cell_type": "markdown",
      "source": [
        "Площадь под Roc-кривой близка к единица, следовательно удалось получить Логрегрессия с настроенными гиперпараметром С=300 - хороший класссификатор."
      ],
      "metadata": {
        "id": "xa46M7N29KiC"
      }
    },
    {
      "cell_type": "markdown",
      "metadata": {
        "id": "Ioh7Z_nQ55uo"
      },
      "source": [
        "#### 2.2. PCA: explained variance plot\n",
        "* Apply the PCA to the train part of the data. Build the explaided variance plot. "
      ]
    },
    {
      "cell_type": "code",
      "execution_count": 17,
      "metadata": {
        "nbgrader": {
          "grade": true,
          "grade_id": "cell-c6c614740bce090e",
          "locked": false,
          "points": 10,
          "schema_version": 2,
          "solution": true
        },
        "colab": {
          "base_uri": "https://localhost:8080/",
          "height": 486
        },
        "id": "MPe-8qpi55uo",
        "outputId": "66e4fc34-bb56-4a6e-a951-a5896fbabeb9"
      },
      "outputs": [
        {
          "output_type": "display_data",
          "data": {
            "text/plain": [
              "<Figure size 640x480 with 1 Axes>"
            ],
            "image/png": "[encoded data removed]"
          },
          "metadata": {}
        }
      ],
      "source": [
        "from sklearn.decomposition import PCA\n",
        "import matplotlib.pyplot as plt\n",
        "\n",
        "#инициализация PCA \n",
        "pca = PCA()\n",
        "\n",
        "#трансформаируем матрицу признаков\n",
        "X_train_pca = pca.fit_transform(X_train_std)\n",
        "\n",
        "#determine explained_variance_ration_ attribute \n",
        "exp_var_pca = pca.explained_variance_ratio_\n",
        "\n",
        "cum_sum_eigenvalues = np.cumsum(exp_var_pca)\n",
        "\n",
        "#создадим барчарт, оторбражающий долю вариативности, вносимую каждым из признаков\n",
        "#ступеначатая линия сверху представляет куммулятивную сумму вариативности признаков\n",
        "\n",
        "plt.bar(range(0,len(exp_var_pca)), exp_var_pca, alpha=0.5, align='center', \n",
        "        label ='Individual explained variance')\n",
        "plt.step(range(0, len(cum_sum_eigenvalues)), cum_sum_eigenvalues,\n",
        "         where = 'mid', label = 'cumualative explained variance')\n",
        "plt.ylabel('Explained variance ratio')\n",
        "plt.xlabel('Principle component index')\n",
        "plt.legend(loc='best')\n",
        "plt.tight_layout()\n",
        "plt.show()"
      ]
    },
    {
      "cell_type": "code",
      "source": [
        "\n",
        "exp_var_pca[:10].sum()\n"
      ],
      "metadata": {
        "colab": {
          "base_uri": "https://localhost:8080/"
        },
        "id": "Z2YyqrEmlUDE",
        "outputId": "478b221c-fff8-4640-f2c5-d9b25ebbfe1d"
      },
      "execution_count": 23,
      "outputs": [
        {
          "output_type": "execute_result",
          "data": {
            "text/plain": [
              "0.9956577602214433"
            ]
          },
          "metadata": {},
          "execution_count": 23
        }
      ]
    },
    {
      "cell_type": "markdown",
      "source": [
        "По полученному барчарту и значению переменной \"exp_var_pca\" мы можем оценить вариабельность признаков нашего датасета. Также мы посчитали сумму первых семи элементов exp_var_pca и получили значение ~100%. \n",
        "\n",
        "То есть первые семь признаков из \"exp_var_pca\" , расположенных по убыванию вариативности, обеспечивают до 100% вариативности в наших данных. Поэтому размерность можно спокойно понизить с 12 до 10\n"
      ],
      "metadata": {
        "id": "EMGydkhlmAkL"
      }
    },
    {
      "cell_type": "markdown",
      "metadata": {
        "nbgrader": {
          "grade": false,
          "grade_id": "cell-0c1fe666f52fe53c",
          "locked": true,
          "schema_version": 2,
          "solution": false
        },
        "id": "jVS3r6ZB55up"
      },
      "source": [
        "#### 2.3. PCA trasformation\n",
        "* Select the appropriate number of components. Briefly explain your choice. Should you normalize the data?\n",
        "\n",
        "*Use `fit` and `transform` methods to transform the `train` and `test` parts.*"
      ]
    },
    {
      "cell_type": "code",
      "execution_count": 24,
      "metadata": {
        "nbgrader": {
          "grade": true,
          "grade_id": "cell-96ab18d96473ef71",
          "locked": false,
          "points": 5,
          "schema_version": 2,
          "solution": true
        },
        "colab": {
          "base_uri": "https://localhost:8080/"
        },
        "id": "LWeSwC2Q55up",
        "outputId": "a0eb2308-ae3f-4ffc-9e3a-d11290b2fd23"
      },
      "outputs": [
        {
          "output_type": "stream",
          "name": "stdout",
          "text": [
            "(846, 10)\n",
            "(549, 10) (549, 1) (297, 10) (297, 1)\n"
          ]
        }
      ],
      "source": [
        "X = sc.fit_transform(df_independ)\n",
        "\n",
        "pca_7 = PCA(n_components = 10)\n",
        "X_pca = pca_7.fit_transform(X)\n",
        "\n",
        "print(X_pca.shape)\n",
        "\n",
        "X_train_pca, X_test_pca, y_train_pca, y_test_pca = train_test_split(X_pca, targ, test_size=0.35)\n",
        "print(X_train_pca.shape, y_train_pca.shape, X_test_pca.shape, y_test_pca.shape)"
      ]
    },
    {
      "cell_type": "markdown",
      "metadata": {
        "id": "ANB-t9Iq55uq"
      },
      "source": [
        "**Note: From this point `sklearn` [Pipeline](https://scikit-learn.org/stable/modules/compose.html) might be useful to perform transformations on the data. Refer to the [docs](https://scikit-learn.org/stable/modules/generated/sklearn.pipeline.Pipeline.html) for more information.**"
      ]
    },
    {
      "cell_type": "markdown",
      "metadata": {
        "nbgrader": {
          "grade": false,
          "grade_id": "cell-d28b58a35c94e988",
          "locked": true,
          "schema_version": 2,
          "solution": false
        },
        "id": "8Zm5H70355uq"
      },
      "source": [
        "#### 2.4. Logistic regression on PCA-preprocessed data.\n",
        "* Find optimal hyperparameters for logistic regression with cross-validation on the transformed by PCA `train` data.\n",
        "\n",
        "* Estimate the model quality with `f1` and `accuracy` scores.\n",
        "* Plot a ROC-curve for the trained model. For the multiclass case you might use `scikitplot` library (e.g. `scikitplot.metrics.plot_roc(test_labels, predicted_proba)`).\n",
        "\n",
        "*Note: please, use the following hyperparameters for logistic regression: `multi_class='multinomial'`, `solver='saga'` and `tol=1e-3`*"
      ]
    },
    {
      "cell_type": "code",
      "source": [
        "\n",
        "clf_pca = LogisticRegression(max_iter=500, multi_class='multinomial', solver='saga',tol=0.001)\n",
        "# подаем на вход модель, словарь с параметрами, установим, на какую метрику ориентироваться\n",
        "clf_tuned_pca = GridSearchCV(estimator=clf_pca,\n",
        "                   param_grid=parameters,\n",
        "                   scoring='accuracy',\n",
        "                   cv = 5)\n",
        "clf_tuned_pca.fit(X_train_pca, y_train_pca)\n",
        "\n",
        "\n",
        "print(f\"Точность обучения на тренировочной выборке при подброре гиперпараметра составила:\\\n",
        "      {round(clf_tuned_pca.best_score_, 3)}\")\n",
        "print(f'Значения гиперпараметра{clf_tuned_pca.best_params_}')\n",
        "\n",
        "y_pred_pca = clf_tuned_pca.best_estimator_.predict(X_test_pca)\n",
        "y_prob_pca = clf_tuned_pca.predict_proba(X_test_pca)\n",
        "\n",
        "print(f'Точность обучения на тестовой выборке:{round(accuracy_score(y_test_pca, y_pred_pca),3)}')\n",
        "f1_lg_pca = f1_score(y_test_pca, y_pred_pca, average='micro')\n",
        "print(f'F1-мера на тестовой выборке:{round(f1_lg_pca,3)}')\n",
        "print('\\n')\n",
        "print(classification_report(y_test_pca, y_pred_pca))\n",
        "\n"
      ],
      "metadata": {
        "colab": {
          "base_uri": "https://localhost:8080/"
        },
        "id": "fvTsjhxQCV5h",
        "outputId": "0e208c83-c65d-4719-faeb-e45c9e91e05c"
      },
      "execution_count": 61,
      "outputs": [
        {
          "output_type": "stream",
          "name": "stdout",
          "text": [
            "Точность обучения на тренировочной выборке при подброре гиперпараметра составила:      0.738\n",
            "Значения гиперпараметра{'C': 100}\n",
            "Точность обучения на тестовой выборке:0.694\n",
            "F1-мера на тестовой выборке:0.694\n",
            "\n",
            "\n",
            "              precision    recall  f1-score   support\n",
            "\n",
            "         bus       0.87      0.81      0.84        77\n",
            "        opel       0.53      0.53      0.53        75\n",
            "        saab       0.60      0.59      0.59        83\n",
            "         van       0.80      0.89      0.84        62\n",
            "\n",
            "    accuracy                           0.69       297\n",
            "   macro avg       0.70      0.70      0.70       297\n",
            "weighted avg       0.69      0.69      0.69       297\n",
            "\n"
          ]
        }
      ]
    },
    {
      "cell_type": "code",
      "source": [
        "scikitplot.metrics.plot_roc(y_test_pca, y_prob_pca)"
      ],
      "metadata": {
        "colab": {
          "base_uri": "https://localhost:8080/",
          "height": 489
        },
        "id": "Nx6jGPMXbF7S",
        "outputId": "5fa9bd92-0516-45d0-8849-ee6c32175b5d"
      },
      "execution_count": 37,
      "outputs": [
        {
          "output_type": "execute_result",
          "data": {
            "text/plain": [
              "<Axes: title={'center': 'ROC Curves'}, xlabel='False Positive Rate', ylabel='True Positive Rate'>"
            ]
          },
          "metadata": {},
          "execution_count": 37
        },
        {
          "output_type": "display_data",
          "data": {
            "text/plain": [
              "<Figure size 640x480 with 1 Axes>"
            ],
            "image/png": "[encoded data removed]"
          },
          "metadata": {}
        }
      ]
    },
    {
      "cell_type": "markdown",
      "metadata": {
        "nbgrader": {
          "grade": false,
          "grade_id": "cell-4fbf16c64076e139",
          "locked": true,
          "schema_version": 2,
          "solution": false
        },
        "id": "SIGUWe5E55ur"
      },
      "source": [
        "#### 2.5. Decision tree\n",
        "* Now train a desicion tree on the same data. Find optimal tree depth (`max_depth`) using cross-validation.\n",
        "\n",
        "* Measure the model quality using the same metrics you used above."
      ]
    },
    {
      "cell_type": "code",
      "execution_count": 62,
      "metadata": {
        "nbgrader": {
          "grade": true,
          "grade_id": "cell-748ed20b51c67fab",
          "locked": false,
          "points": 15,
          "schema_version": 2,
          "solution": true
        },
        "id": "XazIYRec55us",
        "colab": {
          "base_uri": "https://localhost:8080/"
        },
        "outputId": "a5badd85-cb29-4543-ca74-d5adab1dd7da"
      },
      "outputs": [
        {
          "output_type": "execute_result",
          "data": {
            "text/plain": [
              "{'max_depth': 4}"
            ]
          },
          "metadata": {},
          "execution_count": 62
        }
      ],
      "source": [
        "from sklearn.tree import DecisionTreeClassifier\n",
        "\n",
        "params_grid = {'max_depth':[i for i in range(2, 20)]}\n",
        "\n",
        "gs = GridSearchCV(DecisionTreeClassifier(), params_grid, cv=5)\n",
        "\n",
        "gs.fit(X_train_std, y_train)\n",
        "\n",
        "gs.best_params_\n",
        "\n",
        "#y_pred_dt = gs.best_estimator_.predict(X_test)\n",
        "\n"
      ]
    },
    {
      "cell_type": "code",
      "source": [
        "\n",
        "y_pred_dt = gs.best_estimator_.predict(X_test_std)\n",
        "f1_dec = f1_score(y_test, y_pred_dt, average='micro')\n",
        "print(f'Accuracy score:{round(accuracy_score(y_test, y_pred_dt),3)}')\n",
        "print(f'F1-score:{round(f1_dec,3)}')\n",
        "print(\"\\n\")\n",
        "print('Classification report:')\n",
        "print(classification_report(y_test, y_pred_dt))"
      ],
      "metadata": {
        "colab": {
          "base_uri": "https://localhost:8080/"
        },
        "id": "7wv6RVfzJYQL",
        "outputId": "5baf6a05-359c-4775-a4c0-d0688d6d938a"
      },
      "execution_count": 59,
      "outputs": [
        {
          "output_type": "stream",
          "name": "stdout",
          "text": [
            "Accuracy score:0.663\n",
            "F1-score:0.663\n",
            "\n",
            "\n",
            "Classification report:\n",
            "              precision    recall  f1-score   support\n",
            "\n",
            "         bus       0.77      0.88      0.82        73\n",
            "        opel       0.52      0.38      0.44        74\n",
            "        saab       0.55      0.55      0.55        84\n",
            "         van       0.77      0.89      0.83        66\n",
            "\n",
            "    accuracy                           0.66       297\n",
            "   macro avg       0.65      0.67      0.66       297\n",
            "weighted avg       0.65      0.66      0.65       297\n",
            "\n"
          ]
        }
      ]
    },
    {
      "cell_type": "markdown",
      "metadata": {
        "nbgrader": {
          "grade": false,
          "grade_id": "cell-9eadd4d8a03ae67a",
          "locked": true,
          "schema_version": 2,
          "solution": false
        },
        "id": "qlj6PO8m55us"
      },
      "source": [
        "#### 2.6. Bagging.\n",
        "Here starts the ensembling part.\n",
        "\n",
        "First we will use the __Bagging__ approach. Build an ensemble of $N$ algorithms varying N from $N_{min}=2$ to $N_{max}=100$ (with step 5).\n",
        "\n",
        "We will build two ensembles: of logistic regressions and of decision trees.\n",
        "\n",
        "*Comment: each ensemble should be constructed from models of the same family, so logistic regressions should not be mixed up with decision trees.*\n",
        "\n",
        "\n",
        "*Hint 1: To build a __Bagging__ ensebmle varying the ensemble size efficiently you might generate $N_{max}$ subsets of `train` data (of the same size as the original dataset) using bootstrap procedure once. Then you train a new instance of logistic regression/decision tree with optimal hyperparameters you estimated before on each subset (so you train it from scratch). Finally, to get an ensemble of $N$ models you average the $N$ out of $N_{max}$ models predictions.*\n",
        "\n",
        "*Hint 2: sklearn might help you with this taks. Some appropriate function/class might be out there.*\n",
        "\n",
        "* Plot `f1` and `accuracy` scores plots w.r.t. the size of the ensemble.\n",
        "\n",
        "* Briefly analyse the plot. What is the optimal number of algorithms? Explain your answer.\n",
        "\n",
        "* How do you think, are the hyperparameters for the decision trees you found in 2.5 optimal for trees used in ensemble? "
      ]
    },
    {
      "cell_type": "code",
      "source": [
        "from sklearn.utils.optimize import ConvergenceWarning\n",
        "N_max = 100\n",
        "N_min = 2\n",
        "step = 5\n",
        "N_values = np.arange(N_min, N_max, step)\n",
        "N_values = np.append(N_values, N_max) #добавили отдельно значение N=100 в список\n",
        "\n",
        "lr_acc_scores = []\n",
        "lr_f1_scores = []\n",
        "\n",
        "tree_acc_scores= []\n",
        "tree_f1_scores = []\n",
        "\n",
        "lr_classifier = BaggingClassifier(LogisticRegression(multi_class='multinomial', solver='saga', tol=1e-3, max_iter=500, C=300), \n",
        "                                  n_estimators = N_max)\n",
        "tree_classifier = BaggingClassifier(DecisionTreeClassifier(criterion='entropy', max_depth=4),\n",
        "                                    n_estimators = N_max)\n",
        "\n",
        "lr_classifier.fit(X_train, y_train)\n",
        "tree_classifier.fit(X_train, y_train)\n",
        "\n",
        "lr_estimators = lr_classifier.estimators_\n",
        "tree_estimators = tree_classifier.estimators_\n",
        "\n",
        "for n in N_values:\n",
        "  lr_proba = lr_estimators[0].predict_proba(X_test)\n",
        "  tree_proba = tree_estimators[0].predict_proba(X_test)\n",
        "  for i in range(1,n):\n",
        "    lr_proba += lr_estimators[i].predict_proba(X_test)\n",
        "    tree_proba += tree_estimators[i].predict_proba(X_test)\n",
        "  lr_proba = lr_proba / float(n)\n",
        "  tree_proba = tree_proba/ float(n)\n",
        "  lr_pred = lr_classifier.classes_[np.argmax(lr_proba, axis=1)]\n",
        "  tree_pred = tree_classifier.classes_[np.argmax(tree_proba, axis=1)]\n",
        "\n",
        "  lr_acc_scores.append(accuracy_score(y_test, lr_pred))\n",
        "  lr_f1_scores.append(f1_score(y_test, lr_pred, average='micro'))\n",
        "\n",
        "  tree_acc_scores.append(accuracy_score(y_test, tree_pred))\n",
        "  tree_f1_scores.append(f1_score(y_test, tree_pred, average='micro'))\n"
      ],
      "metadata": {
        "id": "RhTK0QZsb35I"
      },
      "execution_count": 45,
      "outputs": []
    },
    {
      "cell_type": "code",
      "source": [
        "fig, axis = plt.subplots(2,2, sharey=True)\n",
        "plt.figure(figsize=((8,14)))\n",
        "\n",
        "axis[0,0].plot(N_values, lr_acc_scores,color='orange')\n",
        "axis[0,0].set_ylabel('Accuracy score value')\n",
        "axis[0,0].set_title(' Bagging with Logistic Regression')\n",
        "axis[0,0].grid()\n",
        "\n",
        "axis[1,0].plot(N_values, lr_acc_scores,color='orange')\n",
        "axis[1,0].set_ylabel('F1 - score value')\n",
        "axis[1,0].grid()\n",
        "\n",
        "axis[0,1].plot(N_values, tree_acc_scores,color='green')\n",
        "axis[0,1].set_ylabel('Accuracy score value')\n",
        "axis[0,1].set_title('Bagging with Decision Tree')\n",
        "axis[0,1].grid()\n",
        "\n",
        "axis[1,1].plot(N_values, tree_acc_scores,color='green')\n",
        "axis[1,1].set_ylabel('F1 - score value')\n",
        "axis[1,1].grid()\n",
        "\n",
        "\n",
        "\n",
        "\n",
        "plt.show()"
      ],
      "metadata": {
        "colab": {
          "base_uri": "https://localhost:8080/",
          "height": 469
        },
        "id": "nL0Xq4LZmr17",
        "outputId": "e6fe435e-7033-49c0-fc7d-9092bfbb6e8a"
      },
      "execution_count": 46,
      "outputs": [
        {
          "output_type": "display_data",
          "data": {
            "text/plain": [
              "<Figure size 640x480 with 4 Axes>"
            ],
            "image/png": "[encoded data removed]"
          },
          "metadata": {}
        },
        {
          "output_type": "display_data",
          "data": {
            "text/plain": [
              "<Figure size 800x1400 with 0 Axes>"
            ]
          },
          "metadata": {}
        }
      ]
    },
    {
      "cell_type": "code",
      "source": [
        "\n",
        "a = max(lr_acc_scores)\n",
        "b = max(tree_acc_scores)\n",
        "\n",
        "print(f'Максимальная точность для лог. регрессии: {round(a, 2)}, индекс элемента в массиве: {lr_acc_scores.index(a)}')\n",
        "print(f'Оптимальное число ансамблей для лог. регрессии: {N_values[4]}')\n",
        "print('\\n')\n",
        "print(f'Максимальная точность для решающих деревьев: {round(b, 2)}, индекс элемента в массиве: {tree_acc_scores.index(b)}')\n",
        "print(f'Оптимальное число ансамблей для решающих деревьев: {N_values[11]}')\n"
      ],
      "metadata": {
        "colab": {
          "base_uri": "https://localhost:8080/"
        },
        "id": "3jO3b15IJBVo",
        "outputId": "8b427692-0a83-4d27-e6b5-e2d1417c5436"
      },
      "execution_count": 57,
      "outputs": [
        {
          "output_type": "stream",
          "name": "stdout",
          "text": [
            "Максимальная точность для лог. регрессии: 0.74, индекс элемента в массиве: 4\n",
            "Оптимальное число ансамблей для лог. регрессии: 22\n",
            "\n",
            "\n",
            "Максимальная точность для решающих деревьев: 0.69, индекс элемента в массиве: 11\n",
            "Оптимальное число ансамблей для решающих деревьев: 57\n"
          ]
        }
      ]
    },
    {
      "cell_type": "markdown",
      "source": [
        "**По полученным данным можно сделать следующие выводы:**\n",
        "\n",
        "\n",
        "*   Ансамбль из лог. регрессий показал лучший результат, чем ансамбль из решающих деревьев;\n",
        "*   Максимальная точность у ансамбля из лог. регрессий наблюдалась при N=22. Далее с ростом N колебалаась около значения 0.74;\n",
        "\n",
        "*   У ансамбля из решающих деревьев наблюдалось скачкообразное измнение точности. Максимум при N = 57;\n",
        "*   Графики accuracy и f1-меры практически не отличаются друг от друга для одного и того же ансамбля;\n",
        "\n",
        "*   Анасамбль из решающих деревье показал лучшую точность по сравнению с одним решающим деревом(0.69 > 0.66), поэтому нет смысла подбирать другие гиперпараметры для ансамбля деревьев;\n",
        "*   Ансамбль из лог. регрессий показал результат хуже, чем обычная лог. регрессия(0.74 < 0.79 )\n",
        "\n",
        "\n",
        "\n",
        "\n",
        " \n"
      ],
      "metadata": {
        "id": "NiSrTCctJFLD"
      }
    },
    {
      "cell_type": "markdown",
      "metadata": {
        "nbgrader": {
          "grade": false,
          "grade_id": "cell-241b7691ab44cbfb",
          "locked": true,
          "schema_version": 2,
          "solution": false
        },
        "id": "X9jx12vw55uu"
      },
      "source": [
        "#### 2.7. Random Forest\n",
        "Now we will work with the Random Forest (its `sklearn` implementation).\n",
        "\n",
        "* * Plot `f1` and `accuracy` scores plots w.r.t. the number of trees in Random Forest.\n",
        "\n",
        "* What is the optimal number of trees you've got? Is it different from the optimal number of logistic regressions/decision trees in 2.6? Explain the results briefly."
      ]
    },
    {
      "cell_type": "code",
      "source": [
        "from sklearn.ensemble import RandomForestClassifier\n",
        "\n",
        "#попробуем подобрать оптимальное число деревьев для алгоритма случайный лес\n",
        "grid_par_rf = {'n_estimators': [i for i in range(1,110)]}\n",
        "\n",
        "rf_opt = GridSearchCV(RandomForestClassifier(), grid_par_rf, cv=5, scoring='accuracy')\n",
        "rf_opt.fit(X_train, y_train)\n",
        "\n",
        "rf_opt.best_params_, rf_opt.best_score_\n"
      ],
      "metadata": {
        "colab": {
          "base_uri": "https://localhost:8080/"
        },
        "id": "g0lxYsy9ns26",
        "outputId": "34487d5c-13ee-4856-d846-5ea7194f6244"
      },
      "execution_count": 67,
      "outputs": [
        {
          "output_type": "execute_result",
          "data": {
            "text/plain": [
              "({'n_estimators': 78}, 0.7669891576313594)"
            ]
          },
          "metadata": {},
          "execution_count": 67
        }
      ]
    },
    {
      "cell_type": "code",
      "source": [
        "#не получили ощутимого прироста по точности\n",
        "\n",
        "y_pred_rf_opt = rf_opt.best_estimator_.predict(X_test)\n",
        "f1_rf = f1_score(y_test, y_pred_rf_opt, average='micro')\n",
        "acc_rf = accuracy_score(y_test, y_pred_rf_opt)\n",
        "\n",
        "print(f'Accuracy score:{round(acc_rf,3)}')\n",
        "print(f'F1-score:{round(f1_rf,3)}')\n"
      ],
      "metadata": {
        "colab": {
          "base_uri": "https://localhost:8080/"
        },
        "id": "IQQJ69hitO1R",
        "outputId": "f13fb02d-e13d-4425-d9ae-bf7b61dd701f"
      },
      "execution_count": 68,
      "outputs": [
        {
          "output_type": "stream",
          "name": "stdout",
          "text": [
            "Accuracy score:0.7\n",
            "F1-score:0.7\n"
          ]
        }
      ]
    },
    {
      "cell_type": "markdown",
      "source": [
        "Построим график зависимости метрик accuracy и f1-score в зависимости от кол-ва деревьев "
      ],
      "metadata": {
        "id": "PztJP6chv6dd"
      }
    },
    {
      "cell_type": "code",
      "source": [
        "num_trees_list = np.linspace(1,100).astype(int)\n",
        "acc_score_list, f1_score_list= [], []\n",
        "\n",
        "for n_estim in tqdm(num_trees_list):\n",
        "  model = RandomForestClassifier(n_estimators=n_estim)\n",
        "  model.fit(X_train, y_train)\n",
        "  result = model.predict(X_test)\n",
        "  acc_score_list.append(accuracy_score(y_test, result))\n",
        "  f1_score_list.append(f1_score(y_test, result, average='micro'))\n",
        "\n",
        "# print(f'f1-score w.r.t. n_estimators:{f1_score_list}')\n",
        "\n",
        "# print(f'accuracy-score w.r.t. n_estimators:{acc_score_list}')\n"
      ],
      "metadata": {
        "colab": {
          "base_uri": "https://localhost:8080/"
        },
        "id": "jK3Pe6pRv-jr",
        "outputId": "425391f8-ecfe-41b0-8284-3f9654182233"
      },
      "execution_count": 69,
      "outputs": [
        {
          "output_type": "stream",
          "name": "stderr",
          "text": [
            "100%|██████████| 50/50 [00:07<00:00,  7.09it/s]\n"
          ]
        }
      ]
    },
    {
      "cell_type": "code",
      "source": [
        "acc_array = np.array(acc_score_list)\n",
        "f1_array = np.array(f1_score_list)\n",
        "\n",
        "\n",
        "fig, (ax1, ax2) = plt.subplots(2, sharex=True)\n",
        "ax1.plot(num_trees_list, acc_array,color='orange', label='accuracy score')\n",
        "ax1.set_title('Accuracy score value')\n",
        "ax1.grid()\n",
        "\n",
        "\n",
        "ax2.plot(num_trees_list, f1_array, color='blue',label='f1-score')\n",
        "ax2.set_title('F1-score value')\n",
        "ax2.set(xlabel='n_estimators')\n",
        "ax2.grid()\n",
        "\n",
        "plt.show()\n"
      ],
      "metadata": {
        "colab": {
          "base_uri": "https://localhost:8080/",
          "height": 472
        },
        "id": "j2pv-qb9zf17",
        "outputId": "fb36cd2e-a911-4c3d-e095-d5bad07ab803"
      },
      "execution_count": 70,
      "outputs": [
        {
          "output_type": "display_data",
          "data": {
            "text/plain": [
              "<Figure size 640x480 with 2 Axes>"
            ],
            "image/png": "[encoded data removed]"
          },
          "metadata": {}
        }
      ]
    },
    {
      "cell_type": "markdown",
      "source": [
        "При использовании случайного леса получили прирост точности в 1% по сравнению с бэггингом над решающими деревьями( 0.7 > 0.69). Этого стоило ожидать, поскольку random forest - это расширение над bagging, которое случайным образом выбирает подмножество фичей, используемых в каждой выборке данных. Поскольку меняются фичи, то меняется и структура дерева. В этом случае у нас по сути ансамбль разных деревьев. \n",
        "\n",
        "Вышесказанным также можно объяснить тот факт, что мы получили другое число оптимальных деревьев, чем в бэггинге. \n",
        "\n",
        "**При бэггинге:**  *N_opt* = 57;\n",
        "\n",
        "**При Random Forest:**  *N_opt* = 78\n"
      ],
      "metadata": {
        "id": "EGVD5gXs6h6A"
      }
    },
    {
      "cell_type": "markdown",
      "metadata": {
        "nbgrader": {
          "grade": false,
          "grade_id": "cell-99191c0852538d4d",
          "locked": true,
          "schema_version": 2,
          "solution": false
        },
        "id": "Fj1n69gl55uv"
      },
      "source": [
        "#### 2.8. Learning curve\n",
        "Your goal is to estimate, how does the model behaviour change with the increase of the `train` dataset size.\n",
        "\n",
        "* Split the training data into 10 equal (almost) parts. Then train the models from above (Logistic regression, Desicion Tree, Random Forest) with optimal hyperparameters you have selected on 1 part, 2 parts (combined, so the train size in increased by 2 times), 3 parts and so on.\n",
        "\n",
        "* Build a plot of `accuracy` and `f1` scores on `test` part, varying the `train` dataset size (so the axes will be score - dataset size.\n",
        "\n",
        "* Analyse the final plot. Can you make any conlusions using it? "
      ]
    },
    {
      "cell_type": "code",
      "execution_count": 77,
      "metadata": {
        "nbgrader": {
          "grade": true,
          "grade_id": "cell-e39bc7e7dff61ff9",
          "locked": false,
          "points": 15,
          "schema_version": 2,
          "solution": true
        },
        "id": "LLGyuYxQ55uw"
      },
      "outputs": [],
      "source": [
        "# YOUR CODE HERE\n",
        "from sklearn.pipeline import make_pipeline\n",
        "from sklearn.ensemble import RandomForestClassifier\n",
        "from sklearn.tree import DecisionTreeClassifier\n",
        "\n",
        "LG_ACC_SCORE = []\n",
        "DT_ACC_SCORE = []\n",
        "RF_ACC_SCORE = []\n",
        "\n",
        "LG_F1_SCORE = []\n",
        "DT_F1_SCORE = []\n",
        "RF_F1_SCORE = []\n",
        "\n",
        "train_size = []\n",
        "\n",
        "X_parts = np.array_split(pd.DataFrame(X_train_std),10, axis=0 )\n",
        "y_parts = np.array_split(y_train, 10, axis=0)\n",
        "\n",
        "LG_pipe = make_pipeline(StandardScaler(), LogisticRegression(C = 300, max_iter=500, multi_class='multinomial', solver='saga',tol=0.001))\n",
        "DT_pipe= DecisionTreeClassifier(max_depth = 4)\n",
        "RF_pipe = RandomForestClassifier(n_estimators= 78)\n"
      ]
    },
    {
      "cell_type": "code",
      "source": [
        "#function for cumulative concatination of dataframes\n",
        "\n",
        "def cum_concat(n, part_data):\n",
        "  \n",
        "  first_two = pd.concat([part_data[0], part_data[1]])\n",
        "\n",
        "  if n == 0:\n",
        "    return part_data[0]\n",
        "  elif n == 1:\n",
        "    return first_two \n",
        "  else:\n",
        "    for i in range(1,n):\n",
        "      conc = pd.concat([first_two, part_data[i+1]])\n",
        "      first_two = conc\n",
        "    return conc\n",
        "\n",
        "#first train Logistic Regression\n",
        "for i in tqdm(range(10)):\n",
        "  x_tr = cum_concat(i, X_parts)\n",
        "  y_tr = cum_concat(i, y_parts)\n",
        "  LG_pipe.fit(x_tr, y_tr )\n",
        "  y_pr = LG_pipe.predict(X_test_std)\n",
        "  LG_ACC_SCORE.append(accuracy_score(y_test, y_pr) )\n",
        "  LG_F1_SCORE.append(f1_score(y_test, y_pr, average='micro') )\n",
        "  train_size.append(x_tr.shape[0])\n",
        "\n"
      ],
      "metadata": {
        "id": "8Yx-CxpgCArw",
        "colab": {
          "base_uri": "https://localhost:8080/"
        },
        "outputId": "161aeab2-e5ba-403e-bad8-313797dd6b4e"
      },
      "execution_count": 78,
      "outputs": [
        {
          "output_type": "stream",
          "name": "stderr",
          "text": [
            "100%|██████████| 10/10 [00:00<00:00, 11.86it/s]\n"
          ]
        }
      ]
    },
    {
      "cell_type": "code",
      "source": [
        "#now train Decision Tree\n",
        "for i in tqdm(range(10)):\n",
        "  x_tr = cum_concat(i, X_parts)\n",
        "  y_tr = cum_concat(i, y_parts)\n",
        "  DT_pipe.fit(x_tr, y_tr )\n",
        "  y_pr = DT_pipe.predict(X_test_std)\n",
        "  DT_ACC_SCORE.append(accuracy_score(y_test, y_pr) )\n",
        "  DT_F1_SCORE.append(f1_score(y_test, y_pr, average='micro') )\n"
      ],
      "metadata": {
        "id": "0WbbUKs7nx3P",
        "colab": {
          "base_uri": "https://localhost:8080/"
        },
        "outputId": "b9606c15-31c4-490b-a12e-9d654ab8c713"
      },
      "execution_count": 79,
      "outputs": [
        {
          "output_type": "stream",
          "name": "stderr",
          "text": [
            "100%|██████████| 10/10 [00:00<00:00, 58.70it/s]\n"
          ]
        }
      ]
    },
    {
      "cell_type": "code",
      "source": [
        "#finally train Random Forest\n",
        "for i in tqdm(range(10)):\n",
        "  x_tr = cum_concat(i, X_parts)\n",
        "  y_tr = cum_concat(i, y_parts)\n",
        "  RF_pipe.fit(x_tr, y_tr )\n",
        "  y_pr = RF_pipe.predict(X_test_std)\n",
        "  RF_ACC_SCORE.append(accuracy_score(y_test, y_pr) )\n",
        "  RF_F1_SCORE.append(f1_score(y_test, y_pr, average='micro') )\n"
      ],
      "metadata": {
        "id": "o68Mvtxb2rB8",
        "colab": {
          "base_uri": "https://localhost:8080/"
        },
        "outputId": "43cdab5d-b0d0-4666-9c26-69766184c9e9"
      },
      "execution_count": 80,
      "outputs": [
        {
          "output_type": "stream",
          "name": "stderr",
          "text": [
            "100%|██████████| 10/10 [00:03<00:00,  3.23it/s]\n"
          ]
        }
      ]
    },
    {
      "cell_type": "markdown",
      "source": [
        "Now let's visualise our accuracy and f1 plots in dependance of X_train size:"
      ],
      "metadata": {
        "id": "170e3b6fJRsd"
      }
    },
    {
      "cell_type": "code",
      "source": [
        "plt.plot(train_size, LG_ACC_SCORE, label='LG')\n",
        "plt.plot(train_size, DT_ACC_SCORE, label='DT')\n",
        "plt.plot(train_size, RF_ACC_SCORE, label='RF')\n",
        "plt.legend()\n",
        "plt.title(\"Accuracy plots for LG,DT, RF models\")\n",
        "plt.xlabel('Train size')\n",
        "plt.ylabel('Accuracy')\n",
        "plt.grid()\n"
      ],
      "metadata": {
        "colab": {
          "base_uri": "https://localhost:8080/",
          "height": 472
        },
        "id": "sQR5khIU9HqZ",
        "outputId": "6c9dbdb0-02a2-4135-9895-7a28bb39779a"
      },
      "execution_count": 81,
      "outputs": [
        {
          "output_type": "display_data",
          "data": {
            "text/plain": [
              "<Figure size 640x480 with 1 Axes>"
            ],
            "image/png": "[encoded data removed]"
          },
          "metadata": {}
        }
      ]
    },
    {
      "cell_type": "code",
      "source": [
        "plt.plot(train_size, LG_F1_SCORE, label='LG')\n",
        "plt.plot(train_size, DT_F1_SCORE, label='DT')\n",
        "plt.plot(train_size, RF_F1_SCORE, label='RF')\n",
        "plt.legend()\n",
        "plt.title(\"F1 plots for LG,DT, RF models\")\n",
        "plt.xlabel('Train size')\n",
        "plt.ylabel('F1-score')\n",
        "plt.grid()\n"
      ],
      "metadata": {
        "colab": {
          "base_uri": "https://localhost:8080/",
          "height": 472
        },
        "id": "dvv4JDoGMlpO",
        "outputId": "8142e77c-5f55-4ab7-e8bf-46a5b7bf1417"
      },
      "execution_count": 82,
      "outputs": [
        {
          "output_type": "display_data",
          "data": {
            "text/plain": [
              "<Figure size 640x480 with 1 Axes>"
            ],
            "image/png": "[encoded data removed]"
          },
          "metadata": {}
        }
      ]
    },
    {
      "cell_type": "markdown",
      "source": [
        "# Вывод:\n",
        "\n",
        "\n",
        "1.   В целом наблюдается рост точности/f1-меры с уваличением размера тренировочной выборки для LogRegr и RandomForest. У Decision Tree вначале рост, затем небольшие скачки после train_size>=320 \n",
        "\n",
        "2.   Наилучшую точность показала логистическая регрессия, второе место занял слачайный лес, треье - решающее дерево. \n",
        "\n",
        "\n"
      ],
      "metadata": {
        "id": "5E4W_tBli5oL"
      }
    },
    {
      "cell_type": "code",
      "source": [],
      "metadata": {
        "id": "_2dvXGF6j3dF"
      },
      "execution_count": null,
      "outputs": []
    }
  ],
  "metadata": {
    "celltoolbar": "Create Assignment",
    "kernelspec": {
      "display_name": "Py3 Research",
      "language": "python",
      "name": "py3_research_kernel"
    },
    "language_info": {
      "codemirror_mode": {
        "name": "ipython",
        "version": 3
      },
      "file_extension": ".py",
      "mimetype": "text/x-python",
      "name": "python",
      "nbconvert_exporter": "python",
      "pygments_lexer": "ipython3",
      "version": "3.9.7"
    },
    "toc": {
      "base_numbering": 1,
      "nav_menu": {},
      "number_sections": false,
      "sideBar": true,
      "skip_h1_title": false,
      "title_cell": "Table of Contents",
      "title_sidebar": "Contents",
      "toc_cell": false,
      "toc_position": {},
      "toc_section_display": true,
      "toc_window_display": false
    },
    "colab": {
      "provenance": []
    }
  },
  "nbformat": 4,
  "nbformat_minor": 0
}