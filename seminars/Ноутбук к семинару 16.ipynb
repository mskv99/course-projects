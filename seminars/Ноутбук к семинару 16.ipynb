{
 "cells": [
  {
   "cell_type": "markdown",
   "metadata": {},
   "source": [
    "# Семинар 16\n",
    "## _SGD update_\n",
    "\n",
    "Д.В. Яценко"
   ]
  },
  {
   "cell_type": "code",
   "execution_count": 1,
   "metadata": {
    "id": "ymf-POlZeecJ"
   },
   "outputs": [],
   "source": [
    "import torch\n",
    "import os\n",
    "import random\n",
    "import time\n",
    "import shutil\n",
    "import torchvision\n",
    "from torchvision import datasets, models, transforms\n",
    "import numpy as np\n",
    "import matplotlib.pyplot as plt\n",
    "from IPython.display import clear_output\n",
    "import torch\n",
    "from torch.nn import Module,Linear,Sequential,ReLU,ELU,Dropout,BatchNorm1d,Flatten,CrossEntropyLoss\n",
    "from torch.optim import lr_scheduler,SGD,Adam,AdamW,Adagrad,RMSprop\n",
    "\n",
    "random.seed(0)\n",
    "np.random.seed(0)\n",
    "torch.manual_seed(0)\n",
    "torch.cuda.manual_seed(0)\n",
    "torch.backends.cudnn.deterministic = True"
   ]
  },
  {
   "cell_type": "markdown",
   "metadata": {},
   "source": [
    "## Подготовим датасет"
   ]
  },
  {
   "cell_type": "code",
   "execution_count": 2,
   "metadata": {
    "id": "4rOr0dBIeunO"
   },
   "outputs": [
    {
     "name": "stdout",
     "output_type": "stream",
     "text": [
      "--2023-05-20 18:10:12--  http://www.ee.surrey.ac.uk/CVSSP/demos/chars74k/EnglishHnd.tgz\n",
      "Распознаётся www.ee.surrey.ac.uk (www.ee.surrey.ac.uk)… 131.227.80.48\n",
      "Подключение к www.ee.surrey.ac.uk (www.ee.surrey.ac.uk)|131.227.80.48|:80... соединение установлено.\n",
      "HTTP-запрос отправлен. Ожидание ответа… 200 OK\n",
      "Длина: 13596287 (13M) [application/x-gzip]\n",
      "Сохранение в: «EnglishHnd.tgz.2»\n",
      "\n",
      "EnglishHnd.tgz.2    100%[===================>]  12,97M  8,34MB/s    за 1,6s    \n",
      "\n",
      "2023-05-20 18:10:14 (8,34 MB/s) - «EnglishHnd.tgz.2» сохранён [13596287/13596287]\n",
      "\n"
     ]
    }
   ],
   "source": [
    "!wget http://www.ee.surrey.ac.uk/CVSSP/demos/chars74k/EnglishHnd.tgz"
   ]
  },
  {
   "cell_type": "code",
   "execution_count": 3,
   "metadata": {
    "id": "y_7Yv-dbpA0D"
   },
   "outputs": [],
   "source": [
    "!tar xzf EnglishHnd.tgz"
   ]
  },
  {
   "cell_type": "code",
   "execution_count": 4,
   "metadata": {
    "id": "boBYCUJrpCnU"
   },
   "outputs": [],
   "source": [
    "!rm English/Hnd/Img/all.txt~ "
   ]
  },
  {
   "cell_type": "markdown",
   "metadata": {},
   "source": [
    "разделяем на train и test"
   ]
  },
  {
   "cell_type": "code",
   "execution_count": 5,
   "metadata": {
    "id": "klJ0uNe6q6zs"
   },
   "outputs": [],
   "source": [
    "def split_data(SOURCE, TRAINING, TESTING, SPLIT_SIZE):\n",
    "    source_files = [f for f in os.listdir(SOURCE) if os.path.getsize(os.path.join(SOURCE, f)) > 0]\n",
    "    random.shuffle(source_files)\n",
    "    total = len(source_files)\n",
    "    to_training = source_files[0: int(total * SPLIT_SIZE)]\n",
    "    to_test = source_files[int(total * SPLIT_SIZE):]\n",
    "    for file_name in to_training:\n",
    "        full_file_name = os.path.join(SOURCE, file_name)\n",
    "        if os.path.isfile(full_file_name):\n",
    "            shutil.copy(full_file_name, TRAINING)\n",
    "    for file_name in to_test:\n",
    "        full_file_name = os.path.join(SOURCE, file_name)\n",
    "        if os.path.isfile(full_file_name):\n",
    "            shutil.copy(full_file_name, TESTING)"
   ]
  },
  {
   "cell_type": "code",
   "execution_count": 6,
   "metadata": {
    "id": "P5o2OnvYrTwX"
   },
   "outputs": [],
   "source": [
    "!rm -rf chars\n",
    "ls=\"0123456789ABCDEFGHIJKLMNOPQRSTUVWXYZabcdefghijklmnopqrstuvwxyz\"\n",
    "dirs=list(os.listdir(\"English/Hnd/Img/\"))\n",
    "dirs.sort()\n",
    "for i in range(10):\n",
    "  os.makedirs(\"chars/train/\"+ls[i])\n",
    "  os.makedirs(\"chars/val/\"+ls[i])\n",
    "  split_data(\"English/Hnd/Img/\"+dirs[i],\"chars/train/\"+ls[i],\"chars/val/\"+ls[i],0.7)"
   ]
  },
  {
   "cell_type": "markdown",
   "metadata": {
    "tags": []
   },
   "source": [
    "### Преобразуем изображения к нужному виду и создаем объект датасет (2)"
   ]
  },
  {
   "cell_type": "code",
   "execution_count": 7,
   "metadata": {
    "colab": {
     "base_uri": "https://localhost:8080/"
    },
    "id": "fj_dwEjCpJt9",
    "outputId": "5868b443-302d-48e2-9fc8-534ed9c000f7"
   },
   "outputs": [
    {
     "name": "stderr",
     "output_type": "stream",
     "text": [
      "/usr/lib64/python3.10/site-packages/torch/utils/data/dataloader.py:554: UserWarning: This DataLoader will create 20 worker processes in total. Our suggested max number of worker in current system is 16, which is smaller than what this DataLoader is going to create. Please be aware that excessive worker creation might get DataLoader running slow or even freeze, lower the worker number to avoid potential slowness/freeze if necessary.\n",
      "  warnings.warn(_create_warning_msg(\n"
     ]
    }
   ],
   "source": [
    "import PIL\n",
    "data_transforms = {\n",
    "    'train': transforms.Compose([\n",
    "        transforms.Resize(32,interpolation=torchvision.transforms.InterpolationMode.BILINEAR),\n",
    "        transforms.CenterCrop(32),\n",
    "        transforms.Grayscale(),\n",
    "        transforms.RandomInvert(p=1),\n",
    "        # transforms.RandomRotation((-20,20),interpolation=torchvision.transforms.InterpolationMode.BILINEAR), # аугментация, попробовать в конце!\n",
    "        transforms.ToTensor(),\n",
    "    ]),\n",
    "    'val': transforms.Compose([\n",
    "        transforms.Resize(32,interpolation=torchvision.transforms.InterpolationMode.BILINEAR),\n",
    "        transforms.CenterCrop(32),\n",
    "        transforms.Grayscale(),\n",
    "        transforms.RandomInvert(p=1),\n",
    "        transforms.ToTensor(),\n",
    "    ]),\n",
    "}\n",
    "\n",
    "data_dir = 'chars/'\n",
    "image_datasets = {x: datasets.ImageFolder(os.path.join(data_dir, x),\n",
    "                                          data_transforms[x])\n",
    "                  for x in ['train', 'val']}\n",
    "dataloaders = {x: torch.utils.data.DataLoader(image_datasets[x], batch_size=20,\n",
    "                                             shuffle=True, num_workers=20)\n",
    "              for x in ['train', 'val']}\n",
    "dataset_sizes = {x: len(image_datasets[x]) for x in ['train', 'val']}\n",
    "class_names = image_datasets['train'].classes\n",
    "\n",
    "device = torch.device(\"cuda:0\" if torch.cuda.is_available() else \"cpu\")"
   ]
  },
  {
   "cell_type": "markdown",
   "metadata": {},
   "source": [
    "### визуализируем датасет"
   ]
  },
  {
   "cell_type": "code",
   "execution_count": 8,
   "metadata": {
    "colab": {
     "base_uri": "https://localhost:8080/",
     "height": 212
    },
    "id": "15WacLuvp3It",
    "outputId": "3127388b-3120-4f79-fb8d-df07e9ac39a3"
   },
   "outputs": [
    {
     "data": {
      "image/png": "[encoded data removed]",
      "text/plain": [
       "<Figure size 640x480 with 1 Axes>"
      ]
     },
     "metadata": {},
     "output_type": "display_data"
    }
   ],
   "source": [
    "def imshow(inp, title=None):\n",
    "    \"\"\"Imshow for Tensor.\"\"\"\n",
    "    inp = inp.numpy().transpose((1, 2, 0))\n",
    "    inp = np.clip(inp, 0, 1)\n",
    "    plt.imshow(inp)\n",
    "    if title is not None:\n",
    "        plt.title(title)\n",
    "    plt.pause(0.001)  # pause a bit so that plots are updated\n",
    "# Get a batch of training data\n",
    "inputs, classes = next(iter(dataloaders['train']))\n",
    "# Make a grid from batch\n",
    "out = torchvision.utils.make_grid(inputs)\n",
    "\n",
    "imshow(out, title=[class_names[x] for x in classes])"
   ]
  },
  {
   "cell_type": "markdown",
   "metadata": {},
   "source": [
    "### Функция обучения сети"
   ]
  },
  {
   "cell_type": "code",
   "execution_count": 9,
   "metadata": {
    "id": "z6vKLA7ZwCtc"
   },
   "outputs": [],
   "source": [
    "def train_model(model, criterion, optimizer, num_epochs=35):\n",
    "    since = time.time()\n",
    "    hist_acc={\"train\":[],\"val\":[]}\n",
    "    best_acc = 0.0\n",
    "    for epoch in range(num_epochs):\n",
    "        for phase in ['train', 'val']:\n",
    "            if(phase == \"train\"): \n",
    "                model.train()\n",
    "            else:\n",
    "                model.eval()\n",
    "            running_loss = 0.0\n",
    "            running_corrects = 0\n",
    "            for inputs, labels in dataloaders[phase]:\n",
    "                inputs = inputs.to(device)\n",
    "                labels = labels.to(device)\n",
    "                optimizer.zero_grad()\n",
    "                with torch.set_grad_enabled(phase == 'train'):\n",
    "                    outputs = model(inputs)\n",
    "                    _, preds = torch.max(outputs, 1)\n",
    "                    loss = criterion(outputs, labels)\n",
    "                    if phase == 'train':\n",
    "                        loss.backward()\n",
    "                        optimizer.step()\n",
    "                running_loss += loss.item() * inputs.size(0)\n",
    "                running_corrects += torch.sum(preds == labels.data)\n",
    "            epoch_loss = running_loss / dataset_sizes[phase]\n",
    "            epoch_acc = running_corrects.double() / dataset_sizes[phase]\n",
    "            hist_acc[phase].append(epoch_acc.cpu().data)\n",
    "            if phase == 'val' and epoch_acc > best_acc:\n",
    "                best_acc = epoch_acc.cpu().data\n",
    "        clear_output(True)\n",
    "        fig=plt.figure()\n",
    "        plt.plot(hist_acc[\"train\"],label=\"Acc train \"+type(optimizer).__name__)\n",
    "        plt.plot(hist_acc[\"val\"],label=\"Acc val \"+ type(optimizer).__name__)\n",
    "        plt.legend()\n",
    "        plt.show()        \n",
    "    time_elapsed = time.time() - since\n",
    "    print('Training complete in {:.0f}m {:.0f}s'.format(\n",
    "        time_elapsed // 60, time_elapsed % 60))\n",
    "    print('Best val Acc: {:4f}'.format(best_acc)) \n",
    "    model.eval()\n",
    "    return best_acc,time_elapsed,fig"
   ]
  },
  {
   "cell_type": "markdown",
   "metadata": {},
   "source": [
    "### Модель сети (1) "
   ]
  },
  {
   "cell_type": "code",
   "execution_count": 10,
   "metadata": {
    "id": "Yed4NKulIRi5"
   },
   "outputs": [],
   "source": [
    "class ImgNet(Module):\n",
    "    def __init__(self, num_inputs, num_classes):    \n",
    "        super(self.__class__,self).__init__()\n",
    "        self.flat = Flatten()\n",
    "        self.l1=Sequential(Linear(num_inputs,3*num_classes),ELU())\n",
    "        self.l2=Sequential(Linear(3*num_classes,2*num_classes),ELU())\n",
    "        self.l3=Sequential(Linear(2*num_classes,num_classes))\n",
    "        # self.l1=Sequential(Linear(num_inputs,3*num_classes),BatchNorm1d(3*num_classes),ELU(), Dropout(0.2))\n",
    "        # self.l2=Sequential(Linear(3*num_classes,2*num_classes),BatchNorm1d(2*num_classes),ELU(),Dropout(0.2))\n",
    "        # self.l3=Sequential(Linear(2*num_classes,num_classes),BatchNorm1d(num_classes),Dropout(0.2)) \n",
    "    def forward(self, x):\n",
    "        x=self.flat(x)\n",
    "        return self.l3(self.l2(self.l1(x)))"
   ]
  },
  {
   "cell_type": "markdown",
   "metadata": {},
   "source": [
    "задаем оптимизатор и функцию потерь"
   ]
  },
  {
   "cell_type": "code",
   "execution_count": 11,
   "metadata": {
    "id": "A38QvzYw3y6d"
   },
   "outputs": [],
   "source": [
    "model_ft = ImgNet(32*32,len(ls)).to(device)\n",
    "criterion = CrossEntropyLoss()  # выходная функция активации уже встроена! https://pytorch.org/docs/stable/generated/torch.nn.CrossEntropyLoss.html\n",
    "optimizer_ft = SGD(model_ft.parameters(), lr=0.001)  #SGD,  SGD(momentum=0.9), Adagrad, RMSprop Adam "
   ]
  },
  {
   "cell_type": "markdown",
   "metadata": {},
   "source": [
    "обучаем сеть и сохраняем график обучения для последующего анализа"
   ]
  },
  {
   "cell_type": "code",
   "execution_count": 12,
   "metadata": {
    "colab": {
     "base_uri": "https://localhost:8080/",
     "height": 1000
    },
    "id": "atedIlRlHUmL",
    "outputId": "4f57eb0f-43c2-4b06-bb58-09c1f5e2f250"
   },
   "outputs": [
    {
     "data": {
      "image/png": "[encoded data removed]",
      "text/plain": [
       "<Figure size 640x480 with 1 Axes>"
      ]
     },
     "metadata": {},
     "output_type": "display_data"
    },
    {
     "name": "stdout",
     "output_type": "stream",
     "text": [
      "Training complete in 1m 33s\n",
      "Best val Acc: 0.211765\n"
     ]
    }
   ],
   "source": [
    "start_time = time.time()\n",
    "best_acc,time_elapsed,fig = train_model(model_ft, criterion, optimizer_ft,num_epochs=45)\n",
    "fig.savefig(\"acc_{}_{}.png\".format(round(float(best_acc),2),type(optimizer_ft).__name__))"
   ]
  },
  {
   "cell_type": "markdown",
   "metadata": {
    "tags": []
   },
   "source": [
    "## Собственная реализация оптимизаторов"
   ]
  },
  {
   "cell_type": "markdown",
   "metadata": {},
   "source": [
    "### SGD\n",
    "$x_{t+1}=x_t-\\alpha \\nabla f(x_t)$"
   ]
  },
  {
   "cell_type": "code",
   "execution_count": 13,
   "metadata": {
    "tags": []
   },
   "outputs": [],
   "source": [
    "class MySGD():\n",
    "    def __init__(self, params, lr=0.001):\n",
    "        self.params=[]\n",
    "        for p in params: self.params.append(p)\n",
    "        self.lr=lr\n",
    "    def step(self):\n",
    "        for p in self.params:\n",
    "            if p.grad is None: continue\n",
    "            p.data.add_(-self.lr * p.grad.data)\n",
    "\n",
    "    def zero_grad(self):\n",
    "        for p in self.params:\n",
    "            if p.grad is None: continue\n",
    "            p.grad.data.zero_()"
   ]
  },
  {
   "cell_type": "markdown",
   "metadata": {},
   "source": [
    "### SGD with momentum\n",
    "$\n",
    " v_{t+1}=\\rho v_t + \\nabla f(x_t) \\\\\n",
    " x_{t+1} = x_t - \\alpha v_{t+1}\n",
    "$\n"
   ]
  },
  {
   "cell_type": "code",
   "execution_count": 14,
   "metadata": {
    "tags": []
   },
   "outputs": [],
   "source": [
    "class MySGDwMomentum():\n",
    "    def __init__(self, params, lr=0.001, rho=0.9):\n",
    "        self.rho=rho\n",
    "        self.v=[]\n",
    "        self.params=[]\n",
    "        for p in params:\n",
    "            self.params.append(p)\n",
    "            self.v.append(torch.zeros_like(p.data))\n",
    "        self.lr=lr\n",
    "    def step(self):\n",
    "        for p,v in zip(self.params,self.v):\n",
    "            if p.grad is None: continue\n",
    "            v_ = self.rho * v.data + p.grad.data\n",
    "            v.data = v_\n",
    "            p.data.add_(-self.lr * v_)\n",
    "\n",
    "    def zero_grad(self):\n",
    "        for p in self.params:\n",
    "            if p.grad is None: continue\n",
    "            p.grad.data.zero_()"
   ]
  },
  {
   "cell_type": "markdown",
   "metadata": {},
   "source": [
    "### Adagrad\n",
    "$\n",
    " \\text{cache}_{t+1} = \\text{cache}_t + (\\nabla f(x_t))^2 \\\\\n",
    " x_{t+1} = x_t - \\alpha \\frac {(\\nabla f(x_t)}{\\text{cache}_{t+1} + \\varepsilon}\n",
    "$"
   ]
  },
  {
   "cell_type": "code",
   "execution_count": 15,
   "metadata": {
    "tags": []
   },
   "outputs": [],
   "source": [
    "class MyAdagrad():\n",
    "    def __init__(self, params, lr=0.001):\n",
    "        self.cache=[]\n",
    "        self.params=[]\n",
    "        for p in params:\n",
    "            self.params.append(p)\n",
    "            self.cache.append(torch.zeros_like(p.data))\n",
    "        self.lr=lr\n",
    "    def step(self):\n",
    "        for p,cache in zip(self.params,self.cache):\n",
    "            if p.grad is None: continue\n",
    "            cache.data.add_(p.grad.data**2)\n",
    "            p.data.add_(-self.lr*p.grad.data/(cache.data+0.00001))\n",
    "\n",
    "    def zero_grad(self):\n",
    "        for p in self.params:\n",
    "            if p.grad is None: continue\n",
    "            p.grad.data.zero_()"
   ]
  },
  {
   "cell_type": "markdown",
   "metadata": {},
   "source": [
    "### RMSProp\n",
    "$\n",
    " \\text{cache}_{t+1} = \\beta \\text{cache}_t + (1-\\beta)(\\nabla f(x_t))^2 \\\\\n",
    " x_{t+1} = x_t - \\alpha \\frac {(\\nabla f(x_t)}{\\text{cache}_{t+1} + \\varepsilon}\n",
    "$"
   ]
  },
  {
   "cell_type": "code",
   "execution_count": 16,
   "metadata": {
    "tags": []
   },
   "outputs": [],
   "source": [
    "class MyRMSprop():\n",
    "    def __init__(self, params, lr=0.001,b=0.9):\n",
    "        self.b=b\n",
    "        self.cache=[]\n",
    "        self.params=[]\n",
    "        for p in params:\n",
    "            self.params.append(p)\n",
    "            self.cache.append(torch.zeros_like(p.data))\n",
    "        self.lr=lr\n",
    "    def step(self):\n",
    "        for p,cache in zip(self.params,self.cache):\n",
    "            if p.grad is None: continue\n",
    "            cache.data.mul_(self.b)\n",
    "            cache.data.add_((1-self.b)*p.grad.data**2)\n",
    "            p.data.add_(-self.lr*p.grad.data/(cache.data+0.00001))\n",
    "\n",
    "    def zero_grad(self):\n",
    "        for p in self.params:\n",
    "            if p.grad is None: continue\n",
    "            p.grad.data.zero_()"
   ]
  },
  {
   "cell_type": "markdown",
   "metadata": {},
   "source": [
    "### Adam\n",
    "$\n",
    " v_{t+1} = \\gamma v_t + (1-\\gamma) \\nabla f(x_t) \\\\\n",
    " \\text{cache}_{t+1} = \\beta \\text{cache}_t + (1-\\beta)(\\nabla f(x_t))^2 \\\\\n",
    " x_{t+1} = x_t - \\alpha \\frac {v_{t+1}}{\\text{cache}_{t+1} + \\varepsilon}\n",
    "$"
   ]
  },
  {
   "cell_type": "code",
   "execution_count": 17,
   "metadata": {},
   "outputs": [],
   "source": [
    "class MyAdam():\n",
    "    def __init__(self, params, lr=0.001,b=0.9,gamma=0.99):\n",
    "        self.b = b\n",
    "        self.gamma = gamma\n",
    "        self.v = []\n",
    "        self.cache = []\n",
    "        self.params = []\n",
    "        for p in params:\n",
    "            self.params.append(p)\n",
    "            self.cache.append(torch.zeros_like(p.data))\n",
    "            self.v.append(torch.zeros_like(p.data))\n",
    "        self.lr=lr\n",
    "    def step(self):\n",
    "        for p,v,cache in zip(self.params,self.v,self.cache):\n",
    "            if p.grad is None: continue\n",
    "            v_= self.gamma * v.data + (1 - self.gamma) * p.grad.data\n",
    "            v.data=v_\n",
    "            cache.data.mul_(self.b)\n",
    "            cache.data.add_((1-self.b)*p.grad.data**2)\n",
    "            p.data.add_(-self.lr * v_ / (cache.data+0.00001))\n",
    "\n",
    "    def zero_grad(self):\n",
    "        for p in self.params:\n",
    "            if p.grad is None: continue\n",
    "            p.grad.data.zero_()"
   ]
  },
  {
   "cell_type": "markdown",
   "metadata": {
    "tags": []
   },
   "source": [
    "## Нормализация "
   ]
  },
  {
   "cell_type": "markdown",
   "metadata": {},
   "source": [
    "измените модель сети, добавив батчнорм и дропаут.  перекомментируйте строки в описании модели  (1), и повторите обучение. \n",
    "\n",
    "Сравните скорость и качество обучения с предыдущим разом по сохраненным графикам. Обратите внимание также на переобучение."
   ]
  },
  {
   "cell_type": "markdown",
   "metadata": {
    "tags": []
   },
   "source": [
    "## Аугментация (обогащение)"
   ]
  },
  {
   "cell_type": "markdown",
   "metadata": {},
   "source": [
    "раскомментируйте строку transforms.RandomRotation в коде создания датасета (2) и повторите обучение.\n",
    "\n",
    "Сравните скорость и качество обучения с предыдущим разом по сохраненным графикам. Обратите внимание также на переобучение."
   ]
  },
  {
   "cell_type": "code",
   "execution_count": null,
   "metadata": {},
   "outputs": [],
   "source": []
  }
 ],
 "metadata": {
  "accelerator": "GPU",
  "colab": {
   "gpuType": "T4",
   "provenance": []
  },
  "gpuClass": "standard",
  "kernelspec": {
   "display_name": "Python 3 (ipykernel)",
   "language": "python",
   "name": "python3"
  },
  "language_info": {
   "codemirror_mode": {
    "name": "ipython",
    "version": 3
   },
   "file_extension": ".py",
   "mimetype": "text/x-python",
   "name": "python",
   "nbconvert_exporter": "python",
   "pygments_lexer": "ipython3",
   "version": "3.10.10"
  }
 },
 "nbformat": 4,
 "nbformat_minor": 4
}
